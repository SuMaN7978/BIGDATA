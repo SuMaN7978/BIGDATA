{
 "cells": [
  {
   "cell_type": "markdown",
   "id": "54c6440b-bdfa-4964-a871-4c735ea631a8",
   "metadata": {},
   "source": [
    "# Q26. What is a string? How can we declare string in Python?"
   ]
  },
  {
   "cell_type": "code",
   "execution_count": 1,
   "id": "b58e375e-b6ed-45cf-988c-af55acad6bfb",
   "metadata": {},
   "outputs": [
    {
     "name": "stdout",
     "output_type": "stream",
     "text": [
      "Hello\n"
     ]
    }
   ],
   "source": [
    "# strings in Python are arrays of bytes representing unicode characters\n",
    "\n",
    "a = \"Hello\"\n",
    "print(a)\n"
   ]
  },
  {
   "cell_type": "markdown",
   "id": "3d27ad33-469d-4601-8733-d2855b3f8c2d",
   "metadata": {},
   "source": [
    "# Q27.  How can we access the string using its index?"
   ]
  },
  {
   "cell_type": "code",
   "execution_count": 2,
   "id": "2376186e-94da-472b-96f2-80f5f18ecba8",
   "metadata": {},
   "outputs": [
    {
     "name": "stdout",
     "output_type": "stream",
     "text": [
      "o\n"
     ]
    }
   ],
   "source": [
    "# You can access the characters in a string by referring to its index number inside square brackets [] \n",
    "print (a[4])"
   ]
  },
  {
   "cell_type": "markdown",
   "id": "46d341ca-7a39-43d8-96cc-556b5b9fbea5",
   "metadata": {},
   "source": [
    "# Q28.  Write a code to get the desired output of the following\n",
    "\n",
    "string = \"Big Data iNeuron\"\n",
    "desired_output = \"iNeuron\""
   ]
  },
  {
   "cell_type": "code",
   "execution_count": 7,
   "id": "5997d334-5e63-4d54-b30c-02b62b32c038",
   "metadata": {},
   "outputs": [
    {
     "name": "stdout",
     "output_type": "stream",
     "text": [
      "['iNeuron']\n"
     ]
    }
   ],
   "source": [
    "String=\"Big Data iNeuron\" \n",
    "desired_output=[String[-7:]]\n",
    "print(desired_output)\n",
    "\n"
   ]
  },
  {
   "cell_type": "markdown",
   "id": "e88ebc41-7bff-4339-a067-efffe8a08107",
   "metadata": {},
   "source": [
    "# 29. Write a code to get the desired output of the following\n",
    "\n",
    "string = \"Big Data iNeuron\"\n",
    "desired_output = \"norueNi\""
   ]
  },
  {
   "cell_type": "code",
   "execution_count": 22,
   "id": "480e9176-708f-4d42-9cd2-3e575260af81",
   "metadata": {},
   "outputs": [
    {
     "name": "stdout",
     "output_type": "stream",
     "text": [
      "['norueNi']\n"
     ]
    }
   ],
   "source": [
    "String=\"Big Data iNeuron\" \n",
    "desired_output=[String[-1:-8:-1]]\n",
    "print(desired_output)\n",
    "\n"
   ]
  },
  {
   "cell_type": "markdown",
   "id": "e25fb44e-40a7-44ca-bfa1-34308ee37b12",
   "metadata": {},
   "source": [
    "# 30. Resverse the string given in the above question."
   ]
  },
  {
   "cell_type": "code",
   "execution_count": 19,
   "id": "ba84e6fa-0b3a-426b-8d62-b465d1136cc9",
   "metadata": {},
   "outputs": [
    {
     "name": "stdout",
     "output_type": "stream",
     "text": [
      "The original string is : Big Data iNeuron\n",
      "The reversed string(using extended slice syntax) is : norueNi ataD giB\n"
     ]
    }
   ],
   "source": [
    "def reverse(string):\n",
    "    string = string[::-1]\n",
    "    return string\n",
    "  \n",
    "s = \"Big Data iNeuron\"\n",
    "  \n",
    "print(\"The original string is : \", end=\"\")\n",
    "print(s)\n",
    "  \n",
    "print(\"The reversed string(using extended slice syntax) is : \", end=\"\")\n",
    "print(reverse(s))"
   ]
  },
  {
   "cell_type": "markdown",
   "id": "4d206c4a-0ec7-4bb9-9be4-dc85cfc217ba",
   "metadata": {},
   "source": [
    "# Q31. How can you delete entire string at once?"
   ]
  },
  {
   "cell_type": "code",
   "execution_count": 2,
   "id": "dc2eda0c-be1d-4ccc-97f6-e605c2e04eea",
   "metadata": {},
   "outputs": [],
   "source": [
    "string='suman'\n",
    "del string\n"
   ]
  },
  {
   "cell_type": "markdown",
   "id": "5d09c957-8520-490d-85de-6e53c435754e",
   "metadata": {},
   "source": [
    "# Q33. How can you print the below string?\n",
    "\n",
    "'iNeuron's Big Data Course'"
   ]
  },
  {
   "cell_type": "code",
   "execution_count": 23,
   "id": "3220c357-4b9b-40df-b358-97055e253d3d",
   "metadata": {},
   "outputs": [
    {
     "name": "stdout",
     "output_type": "stream",
     "text": [
      "iNeuron's Big Data Course'\n"
     ]
    }
   ],
   "source": [
    "a = \"iNeuron's Big Data Course'\"\n",
    "print(a)"
   ]
  },
  {
   "cell_type": "markdown",
   "id": "62f9b6d0-0d31-4842-a3f3-f941d3ca0589",
   "metadata": {},
   "source": [
    "# Q34. What is a list in Python?"
   ]
  },
  {
   "cell_type": "markdown",
   "id": "08a64187-a4dd-487c-9e83-9d16b838a84d",
   "metadata": {},
   "source": [
    "A list is a data structure in Python that is a mutable, or changeable, ordered sequence of elements. Each element or value that is inside of a list is called an item.list store hytrogenics data."
   ]
  },
  {
   "cell_type": "markdown",
   "id": "d242a85f-9703-4f79-98fb-064c3a713429",
   "metadata": {},
   "source": [
    "# Q35. How can you create a list in Python?"
   ]
  },
  {
   "cell_type": "code",
   "execution_count": 27,
   "id": "dddb6992-f16a-40ec-afa4-ca75328ff1bc",
   "metadata": {},
   "outputs": [],
   "source": [
    "list1 = [\"abc\", 34, True, 40, \"male\"]"
   ]
  },
  {
   "cell_type": "code",
   "execution_count": 28,
   "id": "4ef4bef9-e319-470c-b189-95d2cb51ebae",
   "metadata": {},
   "outputs": [
    {
     "name": "stdout",
     "output_type": "stream",
     "text": [
      "['abc', 34, True, 40, 'male']\n"
     ]
    }
   ],
   "source": [
    "print(list1)"
   ]
  },
  {
   "cell_type": "markdown",
   "id": "631d768f-0a2c-40fe-87dd-3acc4db1c2e9",
   "metadata": {},
   "source": [
    "# Q36. How can we access the elements in a list?"
   ]
  },
  {
   "cell_type": "code",
   "execution_count": 26,
   "id": "fcdf4a68-9ccb-4a3d-897a-7165586cd678",
   "metadata": {},
   "outputs": [
    {
     "name": "stdout",
     "output_type": "stream",
     "text": [
      "list1[0]:  10\n",
      "list1[1]:  20\n",
      "list1[2]:  30\n",
      "list1[3]:  40\n",
      "list1[4]:  50\n"
     ]
    }
   ],
   "source": [
    "list1 = [10, 20, 30, 40, 50]\n",
    "\n",
    "# Accessing the elements of a list by its index\n",
    "print(\"list1[0]: \", list1[0])\n",
    "print(\"list1[1]: \", list1[1])\n",
    "print(\"list1[2]: \", list1[2])\n",
    "print(\"list1[3]: \", list1[3])\n",
    "print(\"list1[4]: \", list1[4])"
   ]
  },
  {
   "cell_type": "markdown",
   "id": "90d428ff-477e-40c7-90ca-8223301fe657",
   "metadata": {},
   "source": [
    "# . Q37 Write a code to access the word \"iNeuron\" from the given list.\n",
    "\n",
    "lst = [1,2,3,\"Hi\",[45,54, \"iNeuron\"], \"Big Data\"]"
   ]
  },
  {
   "cell_type": "code",
   "execution_count": 29,
   "id": "b83bc0a2-8377-441e-9677-ddb62274202b",
   "metadata": {},
   "outputs": [],
   "source": [
    "lst = [1,2,3,\"Hi\",[45,54, \"iNeuron\"], \"Big Data\"]"
   ]
  },
  {
   "cell_type": "code",
   "execution_count": 41,
   "id": "488de7b7-60d9-4857-8d63-1f76e7297332",
   "metadata": {},
   "outputs": [
    {
     "name": "stdout",
     "output_type": "stream",
     "text": [
      "iNeuron\n"
     ]
    }
   ],
   "source": [
    "lst2=(lst[4])\n",
    "print(lst2[2])"
   ]
  },
  {
   "cell_type": "markdown",
   "id": "4d601758-3617-4c1b-91c4-cf03f9189a6d",
   "metadata": {},
   "source": [
    "# Q38. Take a list as an input from the user and find the length of the list."
   ]
  },
  {
   "cell_type": "code",
   "execution_count": 44,
   "id": "2b1e685c-46db-4c48-a872-f632746870fa",
   "metadata": {},
   "outputs": [
    {
     "name": "stdin",
     "output_type": "stream",
     "text": [
      "Enter number of elements :  5\n",
      " 10\n",
      " 20\n",
      " 79\n",
      " 38\n",
      " 78\n"
     ]
    },
    {
     "name": "stdout",
     "output_type": "stream",
     "text": [
      "[10, 20, 79, 38, 78]\n"
     ]
    }
   ],
   "source": [
    "lst = []\n",
    "  \n",
    "n = int(input(\"Enter number of elements : \"))\n",
    "  \n",
    "for i in range(0, n):\n",
    "    ele = int(input())\n",
    "  \n",
    "    lst.append(ele) # adding the element\n",
    "      \n",
    "print(lst)"
   ]
  },
  {
   "cell_type": "markdown",
   "id": "b5dd8ffa-c3b2-409a-958d-bed5abf2d918",
   "metadata": {},
   "source": [
    "# 39 Add the word \"Big\" in the 3rd index of the given list.\n",
    "\n",
    "lst = [\"Welcome\", \"to\", \"Data\", \"course\"]"
   ]
  },
  {
   "cell_type": "code",
   "execution_count": 45,
   "id": "d5460f31-4d3f-4eae-869c-21dc9982b53b",
   "metadata": {},
   "outputs": [
    {
     "name": "stdout",
     "output_type": "stream",
     "text": [
      "['Welcome', 'to', 'Big', 'Data', 'course']\n"
     ]
    }
   ],
   "source": [
    "lst = [\"Welcome\", \"to\", \"Data\", \"course\"]\n",
    "lst.insert(2, \"Big\")\n",
    "print(lst)"
   ]
  },
  {
   "cell_type": "markdown",
   "id": "d94009a5-3256-4c13-b16e-910146692819",
   "metadata": {},
   "source": [
    "# Q92. Write a Python program to convert a list of tuples into dictionary.\n",
    "\n",
    "Input : [('Sachin', 10), ('MSD', 7), ('Kohli', 18), ('Rohit', 45)]\n",
    "Output : {'Sachin': 10, 'MSD': 7, 'Kohli': 18, 'Rohit': 45}"
   ]
  },
  {
   "cell_type": "code",
   "execution_count": 49,
   "id": "c3bad18a-d996-40e8-b593-6273cd8466ac",
   "metadata": {},
   "outputs": [
    {
     "name": "stdout",
     "output_type": "stream",
     "text": [
      "{'Sachin': 10, 'MSD': 7, 'Kohli': 18, 'Rohit': 45}\n"
     ]
    }
   ],
   "source": [
    "input = [('Sachin', 10), ('MSD', 7), ('Kohli', 18), ('Rohit', 45)]\n",
    "result = dict(input)\n",
    "print(result)"
   ]
  },
  {
   "cell_type": "markdown",
   "id": "ba099508-6377-48b0-a363-884163a140a3",
   "metadata": {},
   "source": [
    "# Q93. Write a Python program to create a list of tuples from given list having number and its cube in each tuple.\n",
    "\n",
    "Input: list = [9, 5, 6]\n",
    "Output: [(9, 729), (5, 125), (6, 216)]\n"
   ]
  },
  {
   "cell_type": "code",
   "execution_count": 50,
   "id": "19f57bd3-0690-4164-9cba-6dbfa2763cd9",
   "metadata": {},
   "outputs": [
    {
     "name": "stdout",
     "output_type": "stream",
     "text": [
      "The list of Tuples is  [(9, 729), (5, 125), (6, 216)]\n"
     ]
    }
   ],
   "source": [
    " myList = [9, 5, 6] \n",
    "tupleList = [] \n",
    "for val in myList:\n",
    "    myTuple = (val, (val*val*val))\n",
    "    tupleList.append(myTuple)\n",
    "\n",
    "print(\"The list of Tuples is \" , str(tupleList))\n"
   ]
  },
  {
   "cell_type": "markdown",
   "id": "268913fa-b328-4559-905a-542f76d1d47e",
   "metadata": {},
   "source": [
    "# . Write a Python program to get all combinations of 2 tuples.\n",
    "\n",
    "Input : test_tuple1 = (7, 2), test_tuple2 = (7, 8)\n",
    "Output : [(7, 7), (7, 8), (2, 7), (2, 8), (7, 7), (7, 2), (8, 7), (8, 2)]"
   ]
  },
  {
   "cell_type": "code",
   "execution_count": null,
   "id": "1b8e3e3b-5bcf-4c76-8c0d-633f3636c425",
   "metadata": {},
   "outputs": [],
   "source": [
    " test_tuple1 = (7, 2)\n",
    "    test_tuple2 = (7, 8)\n",
    "    "
   ]
  },
  {
   "cell_type": "markdown",
   "id": "7d3d99e7-e5a6-4aa5-b5df-e434dfd3816d",
   "metadata": {},
   "source": [
    "# . Write a Python program to sort a list of tuples by second item.\n",
    "\n",
    "Input : [('for', 24), ('Geeks', 8), ('Geeks', 30)] \n",
    "Output : [('Geeks', 8), ('for', 24), ('Geeks', 30)]"
   ]
  },
  {
   "cell_type": "code",
   "execution_count": 52,
   "id": "c9a7bd34-14c2-4171-8319-62a58760a833",
   "metadata": {},
   "outputs": [
    {
     "name": "stdout",
     "output_type": "stream",
     "text": [
      "[('Geeks', 8), ('for', 24), ('Geeks', 30)]\n"
     ]
    }
   ],
   "source": [
    "def Sort_Tuple(tup):\n",
    "     \n",
    "    # getting length of list of tuples\n",
    "    lst = len(tup)\n",
    "    for i in range(0, lst):\n",
    "         \n",
    "        for j in range(0, lst-i-1):\n",
    "            if (tup[j][1] > tup[j + 1][1]):\n",
    "                temp = tup[j]\n",
    "                tup[j]= tup[j + 1]\n",
    "                tup[j + 1]= temp\n",
    "    return tup\n",
    " \n",
    "# Driver Code\n",
    "tup =[('for', 24),\n",
    "      ('Geeks',8),\n",
    "      ('Geeks', 30)]\n",
    "       \n",
    "print(Sort_Tuple(tup))"
   ]
  },
  {
   "cell_type": "raw",
   "id": "d0781dd3-26a7-4ad3-9e63-fd5fd081c67f",
   "metadata": {},
   "source": [
    "# Q96. Write a python program to print below pattern.\n",
    "\n",
    "* \n",
    "* * \n",
    "* * * \n",
    "* * * * \n",
    "* * * * * \n",
    "\n",
    "\n"
   ]
  },
  {
   "cell_type": "code",
   "execution_count": 69,
   "id": "c70cd3cb-060f-4717-be83-9e6069061b63",
   "metadata": {},
   "outputs": [
    {
     "name": "stdout",
     "output_type": "stream",
     "text": [
      "\n",
      "* \n",
      "* * \n",
      "* * * \n",
      "* * * * \n",
      "* * * * * \n"
     ]
    }
   ],
   "source": [
    "rows = 6\n",
    "for i in range(rows):\n",
    "    # nested loop\n",
    "    for j in range(i):\n",
    "        # display number\n",
    "        print(\"*\", end=' ')\n",
    "    # new line after each row\n",
    "    print('')"
   ]
  },
  {
   "cell_type": "code",
   "execution_count": 72,
   "id": "409836ef-d054-4206-906b-28fbc3493030",
   "metadata": {},
   "outputs": [],
   "source": [
    "#Q98. Write a python program to print below pattern."
   ]
  },
  {
   "cell_type": "code",
   "execution_count": 74,
   "id": "7911f6b2-f390-4156-b85b-f235dcf6febf",
   "metadata": {},
   "outputs": [
    {
     "name": "stdout",
     "output_type": "stream",
     "text": [
      "          * \n",
      "        * * \n",
      "      * * * \n",
      "    * * * * \n",
      "  * * * * * \n",
      "* * * * * * \n"
     ]
    }
   ],
   "source": [
    "\n",
    "rows =6\n",
    "k = 2 * rows - 2  \n",
    "for i in range(0, rows):  \n",
    "    for j in range(0, k):  \n",
    "        print(end=\" \")  \n",
    "    k = k - 2   # decrement k value after each iteration  \n",
    "    for j in range(0, i + 1):  \n",
    "        print(\"* \", end=\"\")  # printing star  \n",
    "    print(\"\")  "
   ]
  },
  {
   "cell_type": "raw",
   "id": "4b677c26-f273-4740-a096-81a27144566b",
   "metadata": {},
   "source": [
    "# Q98. Write a python program to print below pattern.\n",
    "\n",
    "    * \n",
    "   * * \n",
    "  * * * \n",
    " * * * * \n",
    "* * * * * "
   ]
  },
  {
   "cell_type": "code",
   "execution_count": 76,
   "id": "eed9f9cc-95ec-4753-9004-aa3f37b14a7d",
   "metadata": {},
   "outputs": [
    {
     "name": "stdout",
     "output_type": "stream",
     "text": [
      "                  * \n",
      "                * * * \n",
      "              * * * * * \n",
      "            * * * * * * * \n",
      "          * * * * * * * * * \n",
      "        * * * * * * * * * * * \n",
      "      * * * * * * * * * * * * * \n",
      "    * * * * * * * * * * * * * * * \n",
      "  * * * * * * * * * * * * * * * * * \n",
      "* * * * * * * * * * * * * * * * * * * \n"
     ]
    }
   ],
   "source": [
    "rows = 10\n",
    "k = 0\n",
    "for i in range(1, rows+1):\n",
    "    for space in range(1, (rows-i)+1):\n",
    "        print(end=\"  \")\n",
    "   \n",
    "    while k!=(2*i-1):\n",
    "        print(\"* \", end=\"\")\n",
    "        k += 1\n",
    "   \n",
    "    k = 0\n",
    "    print()"
   ]
  },
  {
   "cell_type": "raw",
   "id": "e20138b1-921b-4521-944a-18e24b0fb2d2",
   "metadata": {},
   "source": [
    "Q99. Write a python program to print below pattern.\n",
    "\n",
    "1 \n",
    "1 2 \n",
    "1 2 3 \n",
    "1 2 3 4 \n",
    "1 2 3 4 5"
   ]
  },
  {
   "cell_type": "code",
   "execution_count": 77,
   "id": "1f094403-ea5f-483c-b4e6-10fe16bf4425",
   "metadata": {},
   "outputs": [
    {
     "name": "stdout",
     "output_type": "stream",
     "text": [
      "1 \n",
      "1 2 \n",
      "1 2 3 \n",
      "1 2 3 4 \n",
      "1 2 3 4 5 \n"
     ]
    }
   ],
   "source": [
    "rows = 5\n",
    "for i in range(1, rows + 1):\n",
    "    for j in range(1, i + 1):\n",
    "        print(j, end=' ')\n",
    "    print('')"
   ]
  },
  {
   "cell_type": "raw",
   "id": "c3858772-dd74-4560-b319-646803397833",
   "metadata": {},
   "source": [
    "100. Write a python program to print below pattern.\n",
    "\n",
    "A \n",
    "B B \n",
    "C C C \n",
    "D D D D \n",
    "E E E E E "
   ]
  },
  {
   "cell_type": "code",
   "execution_count": 80,
   "id": "7792cb2c-f79d-4817-ae30-10ad7a6ae7da",
   "metadata": {},
   "outputs": [
    {
     "name": "stdout",
     "output_type": "stream",
     "text": [
      "A \n",
      "\n",
      "B B \n",
      "\n",
      "C C C \n",
      "\n",
      "D D D D \n",
      "\n",
      "E E E E E \n",
      "\n"
     ]
    }
   ],
   "source": [
    "rows = 5\n",
    "\n",
    "ascii_value = 65\n",
    "\n",
    "for i in range(rows):\n",
    "    for j in range(i+1):\n",
    "        alphabet = chr(ascii_value)\n",
    "        print(alphabet, end=\" \")\n",
    "    \n",
    "    ascii_value += 1\n",
    "    print(\"\\n\")"
   ]
  },
  {
   "cell_type": "raw",
   "id": "d0fd85e6-cc15-443b-adfc-a3d0c870600d",
   "metadata": {},
   "source": [
    "Q76. Write a Python program to find the factorial of a given number."
   ]
  },
  {
   "cell_type": "code",
   "execution_count": 83,
   "id": "f90656a9-b43a-4d42-9d89-84d90b77b3dd",
   "metadata": {},
   "outputs": [
    {
     "ename": "TypeError",
     "evalue": "'list' object is not callable",
     "output_type": "error",
     "traceback": [
      "\u001b[0;31m---------------------------------------------------------------------------\u001b[0m",
      "\u001b[0;31mTypeError\u001b[0m                                 Traceback (most recent call last)",
      "Cell \u001b[0;32mIn [83], line 1\u001b[0m\n\u001b[0;32m----> 1\u001b[0m num \u001b[38;5;241m=\u001b[39m \u001b[38;5;28mint\u001b[39m(\u001b[38;5;28;43minput\u001b[39;49m\u001b[43m(\u001b[49m\u001b[38;5;124;43m\"\u001b[39;49m\u001b[38;5;124;43menter the number:\u001b[39;49m\u001b[38;5;124;43m\"\u001b[39;49m\u001b[43m)\u001b[49m)  \n\u001b[1;32m      2\u001b[0m factorial \u001b[38;5;241m=\u001b[39m \u001b[38;5;241m1\u001b[39m    \n\u001b[1;32m      3\u001b[0m \u001b[38;5;28;01mif\u001b[39;00m num \u001b[38;5;241m<\u001b[39m \u001b[38;5;241m0\u001b[39m:    \n",
      "\u001b[0;31mTypeError\u001b[0m: 'list' object is not callable"
     ]
    }
   ],
   "source": [
    "num = int(input(\"enter the number:\"))  \n",
    "factorial = 1    \n",
    "if num < 0:    \n",
    "   print(\" Factorial does not exist for negative numbers\")    \n",
    "elif num == 0:    \n",
    "   print(\"The factorial of 0 is 1\")    \n",
    "else:    \n",
    "   for i in range(1,num + 1):    \n",
    "       factorial = factorial*i    \n",
    "   print(\"The factorial of\",num,\"is\",factorial)   "
   ]
  },
  {
   "cell_type": "raw",
   "id": "6ed14f94-fab6-482c-bde3-9a1385fdcbe4",
   "metadata": {},
   "source": [
    "Q77. Write a Python program to calculate the simple interest. Formula to calculate simple interest is SI = (PRT)/100"
   ]
  },
  {
   "cell_type": "code",
   "execution_count": 85,
   "id": "5a96e725-54f5-4155-8dde-a94451e721b3",
   "metadata": {},
   "outputs": [
    {
     "name": "stdout",
     "output_type": "stream",
     "text": [
      "The principal is 10\n",
      "The time period is 9\n",
      "The rate of interest is 5\n",
      "The Simple Interest is 4.5\n"
     ]
    },
    {
     "data": {
      "text/plain": [
       "4.5"
      ]
     },
     "execution_count": 85,
     "metadata": {},
     "output_type": "execute_result"
    }
   ],
   "source": [
    "def simple_interest(p,t,r):\n",
    "    print('The principal is', p)\n",
    "    print('The time period is', t)\n",
    "    print('The rate of interest is',r)\n",
    "     \n",
    "    si = (p * t * r)/100\n",
    "     \n",
    "    print('The Simple Interest is', si)\n",
    "    return si\n",
    "     \n",
    "simple_interest(10, 9, 5)"
   ]
  },
  {
   "cell_type": "raw",
   "id": "5ed01c17-a81a-49cb-8610-0301122ced78",
   "metadata": {},
   "source": [
    "Q78. Write a Python program to calculate the compound interest. Formula of compound interest is A = P(1+ R/100)^t."
   ]
  },
  {
   "cell_type": "code",
   "execution_count": 88,
   "id": "75998aad-fcec-48f4-b2f9-d15123560f6a",
   "metadata": {},
   "outputs": [
    {
     "name": "stdout",
     "output_type": "stream",
     "text": [
      "Compound interest is 6288.946267774416\n"
     ]
    }
   ],
   "source": [
    "def compound_interest(principle, rate, time):\n",
    " \n",
    "    # Calculates compound interest\n",
    "    Amount = principle * (pow((1 + rate / 100), time))\n",
    "    CI = Amount - principle\n",
    "    print(\"Compound interest is\", CI)\n",
    " \n",
    " \n",
    "\n",
    "compound_interest(10000, 10.25, 5)"
   ]
  },
  {
   "cell_type": "raw",
   "id": "69c77202-21d3-45d6-ac4c-6caee7bc45e6",
   "metadata": {},
   "source": [
    "Q79. Write a Python program to check if a number is prime or not."
   ]
  },
  {
   "cell_type": "code",
   "execution_count": 95,
   "id": "4ac49499-5c06-4dc1-832a-6afc00c4f917",
   "metadata": {},
   "outputs": [
    {
     "name": "stdout",
     "output_type": "stream",
     "text": [
      "13 is a prime number\n"
     ]
    }
   ],
   "source": [
    "number = 13\n",
    "# prime number is always greater than 1\n",
    "if number > 1:\n",
    "    for i in range(2, number):\n",
    "        if (number % i) == 0:\n",
    "            print(number, \"is not a prime number\")\n",
    "            break\n",
    "    else:\n",
    "        print(number, \"is a prime number\")\n",
    "\n",
    "# if the entered number is less than or equal to 1\n",
    "# then it is not prime number\n",
    "else:\n",
    "    print(number, \"is not a prime number\")"
   ]
  },
  {
   "cell_type": "raw",
   "id": "4365e56a-8a52-4f30-b8c1-d3c8979b7ad5",
   "metadata": {},
   "source": [
    "Q91. Write a Python program to merge two dictionary."
   ]
  },
  {
   "cell_type": "code",
   "execution_count": 96,
   "id": "f5732189-42cc-42f9-aee0-41336db210fa",
   "metadata": {},
   "outputs": [
    {
     "name": "stdout",
     "output_type": "stream",
     "text": [
      "{1: 'a', 2: 'c', 4: 'd'}\n"
     ]
    }
   ],
   "source": [
    "dict_1 = {1: 'a', 2: 'b'}\n",
    "dict_2 = {2: 'c', 4: 'd'}\n",
    "\n",
    "print(dict_1 | dict_2)"
   ]
  },
  {
   "cell_type": "raw",
   "id": "3e985b98-e1ad-4202-9e2a-06ba34d4694f",
   "metadata": {},
   "source": [
    "Q90. Write a Python program to extract unquire dictionary values.\n"
   ]
  },
  {
   "cell_type": "code",
   "execution_count": 97,
   "id": "a8f54ca6-ee4b-4162-a07a-ecc232dd621c",
   "metadata": {},
   "outputs": [
    {
     "name": "stdout",
     "output_type": "stream",
     "text": [
      "The dictionary is : \n",
      "{'hi': [5, 3, 8, 0], 'there': [22, 51, 63, 77], 'how': [7, 0, 22], 'are': [12, 11, 45], 'you': [56, 31, 89, 90]}\n",
      "The unique values are : \n",
      "[0, 3, 5, 7, 8, 11, 12, 22, 31, 45, 51, 56, 63, 77, 89, 90]\n"
     ]
    }
   ],
   "source": [
    "my_dict = {'hi' : [5,3,8, 0],\n",
    "   'there' : [22, 51, 63, 77],\n",
    "   'how' : [7, 0, 22],\n",
    "   'are' : [12, 11, 45],\n",
    "   'you' : [56, 31, 89, 90]}\n",
    "\n",
    "print(\"The dictionary is : \")\n",
    "print(my_dict)\n",
    "\n",
    "my_result = list(sorted({elem for val in my_dict.values() for elem in val}))\n",
    "\n",
    "print(\"The unique values are : \")\n",
    "print(my_result)"
   ]
  },
  {
   "cell_type": "raw",
   "id": "4a26ecfd-1407-4515-991a-29491b9b286b",
   "metadata": {},
   "source": [
    "Q89. Write a Python program to find words which are greater than given length k."
   ]
  },
  {
   "cell_type": "code",
   "execution_count": 98,
   "id": "be8d6658-69ec-4477-a41b-6f8093809c00",
   "metadata": {},
   "outputs": [
    {
     "name": "stdout",
     "output_type": "stream",
     "text": [
      "['hello', 'geeks', 'geeks', 'computer', 'science', 'portal']\n"
     ]
    }
   ],
   "source": [
    "sentence = \"hello geeks for geeks is computer science portal\"\n",
    "length = 3\n",
    "print([word for word in sentence.split() if len(word) > length])"
   ]
  },
  {
   "cell_type": "raw",
   "id": "de0f2afa-b371-4e4b-b2cc-c3f18f2b2507",
   "metadata": {},
   "source": [
    "Q88. Write a Python program to check if a substring is present in a given string."
   ]
  },
  {
   "cell_type": "code",
   "execution_count": 99,
   "id": "bae7c8dc-f108-4e73-8b58-0df05851725c",
   "metadata": {},
   "outputs": [
    {
     "name": "stdout",
     "output_type": "stream",
     "text": [
      "Yes! it is present in the string\n"
     ]
    }
   ],
   "source": [
    "MyString = \"A good student is need a good mentor\"\n",
    " \n",
    "if \"need\" in MyString:\n",
    "    print(\"Yes! it is present in the string\")\n",
    "else:\n",
    "    print(\"No! it is not present\")"
   ]
  },
  {
   "cell_type": "raw",
   "id": "e43142dc-b6f7-4957-a8f0-e294b2d051c0",
   "metadata": {},
   "source": [
    "Q87. Write a Python program to remove i'th element from a string"
   ]
  },
  {
   "cell_type": "code",
   "execution_count": null,
   "id": "a51788c4-8286-4ec3-adb1-be894ca2a8e5",
   "metadata": {},
   "outputs": [],
   "source": []
  },
  {
   "cell_type": "raw",
   "id": "e13e2878-eb02-46cb-b932-e85f7e6b706a",
   "metadata": {},
   "source": [
    "Q86. Write a Python program to check if a string is palindrome or not."
   ]
  },
  {
   "cell_type": "code",
   "execution_count": 105,
   "id": "40fa5aeb-4640-479d-9f68-f852493a13ee",
   "metadata": {},
   "outputs": [
    {
     "name": "stdout",
     "output_type": "stream",
     "text": [
      "Yes\n"
     ]
    }
   ],
   "source": [
    "def isPalindrome(s):\n",
    "    return s == s[::-1]\n",
    " \n",
    " \n",
    "#\n",
    "s = \"TENET\"\n",
    "ans = isPalindrome(s)\n",
    " \n",
    "if ans:\n",
    "    print(\"Yes\")\n",
    "else:\n",
    "    print(\"No\")"
   ]
  },
  {
   "cell_type": "raw",
   "id": "12d28e1e-c59d-4af4-9380-bb6e250d6443",
   "metadata": {},
   "source": [
    "Q85. Write a Python program to find cumulative sum of a list."
   ]
  },
  {
   "cell_type": "code",
   "execution_count": 106,
   "id": "b643c20f-0632-41c7-841a-f16dd09a38b0",
   "metadata": {},
   "outputs": [
    {
     "name": "stdout",
     "output_type": "stream",
     "text": [
      "[10, 30, 60, 100, 150]\n"
     ]
    }
   ],
   "source": [
    "list=[10,20,30,40,50]\n",
    "new_list=[]\n",
    "j=0\n",
    "for i in range(0,len(list)):\n",
    "    j+=list[i]\n",
    "    new_list.append(j)\n",
    "     \n",
    "print(new_list)"
   ]
  },
  {
   "cell_type": "markdown",
   "id": "4bd99419-841b-4417-ad74-270c42075681",
   "metadata": {},
   "source": [
    "Q84. Write a Python program to find N largest element from a list."
   ]
  },
  {
   "cell_type": "code",
   "execution_count": 107,
   "id": "05b8e1de-69f6-4fbb-9091-abc33279c043",
   "metadata": {},
   "outputs": [
    {
     "name": "stdout",
     "output_type": "stream",
     "text": [
      "List =  [120, 50, 89, 170, 45, 250, 450, 340]\n",
      "Largest integers from the List =  [340, 450]\n"
     ]
    }
   ],
   "source": [
    "myList = [120, 50, 89, 170, 45, 250, 450, 340]\n",
    "\n",
    "print(\"List = \",myList)\n",
    "\n",
    "# The value of N\n",
    "n = 2\n",
    "\n",
    "\n",
    "# First, sort the List\n",
    "myList.sort()\n",
    "\n",
    "print(\"Largest integers from the List = \",myList[-n:])"
   ]
  },
  {
   "cell_type": "raw",
   "id": "2fb55136-a8ee-4122-99ec-16053565fa7f",
   "metadata": {},
   "source": [
    "Q83. Write a Python program to swap two elements in a list."
   ]
  },
  {
   "cell_type": "code",
   "execution_count": null,
   "id": "0c361925-fc05-4ffc-96f5-3199cbdb0bdb",
   "metadata": {},
   "outputs": [],
   "source": []
  },
  {
   "cell_type": "raw",
   "id": "204b68e3-ccc7-4407-83c7-802f84afc4a6",
   "metadata": {},
   "source": [
    "Q82. Write a Python program to interchange the first and last element in a list."
   ]
  },
  {
   "cell_type": "code",
   "execution_count": 108,
   "id": "703cbe4d-2482-4623-b75e-388c99537fd5",
   "metadata": {},
   "outputs": [
    {
     "name": "stdout",
     "output_type": "stream",
     "text": [
      "Initial List :  [1, 7, 3, 90, 23, 4]\n",
      "List after Swapping :  [4, 7, 3, 90, 23, 1]\n"
     ]
    }
   ],
   "source": [
    "myList = [1, 7, 3, 90, 23, 4]\n",
    "print(\"Initial List : \", myList)\n",
    "\n",
    "# finding the length of list\n",
    "length = len(myList)\n",
    "\n",
    "# Swapping first and last element\n",
    "temp = myList[0]\n",
    "myList[0] = myList[length - 1]\n",
    "myList[length - 1] = temp\n",
    "\n",
    "print(\"List after Swapping : \", myList)"
   ]
  },
  {
   "cell_type": "raw",
   "id": "68171600-5950-4e85-b616-776e37d31f7a",
   "metadata": {},
   "source": [
    "Q81. Write a Python program to find the n-th Fibonacci Number."
   ]
  },
  {
   "cell_type": "code",
   "execution_count": null,
   "id": "4e0cbed7-a21d-4814-98b8-34edd8096274",
   "metadata": {},
   "outputs": [],
   "source": []
  },
  {
   "cell_type": "raw",
   "id": "f99c40ab-ba8f-4c4e-a0d7-759598ac8ffe",
   "metadata": {},
   "source": [
    "Q80. Write a Python program to check Armstrong Number."
   ]
  },
  {
   "cell_type": "code",
   "execution_count": 109,
   "id": "e98ea67a-0b57-436c-9f0a-551273f6199a",
   "metadata": {},
   "outputs": [
    {
     "name": "stdout",
     "output_type": "stream",
     "text": [
      "153 is an Armstrong number\n"
     ]
    }
   ],
   "source": [
    "num = 153\n",
    "\n",
    "# initialize sum\n",
    "sum = 0\n",
    "\n",
    "temp = num\n",
    "while temp > 0:\n",
    "   digit = temp % 10\n",
    "   sum += digit ** 3\n",
    "   temp //= 10\n",
    "\n",
    "if num == sum:\n",
    "   print(num,\"is an Armstrong number\")\n",
    "else:\n",
    "   print(num,\"is not an Armstrong number\")"
   ]
  },
  {
   "cell_type": "raw",
   "id": "cbd56d4e-4696-4781-871b-7fcd4c2f70a1",
   "metadata": {},
   "source": [
    "Q40. What is a tuple? How is it different from list?"
   ]
  },
  {
   "cell_type": "raw",
   "id": "dcee90e4-92d1-4d54-8653-eba1cd6d189e",
   "metadata": {},
   "source": [
    "Tuples are also a sequence datatype containing elements of different data types.\n",
    "Tuples are used to store heterogeneous and homogeneous data.\n",
    "Tuples are immutable in nature.\n",
    "Tuples are ordered\n",
    "An index is used to traverse a tuple.\n",
    "Tuples are similar to lists. It also preserves the data sequence."
   ]
  },
  {
   "cell_type": "raw",
   "id": "bdfbe322-40b4-4303-98f7-a69fd0d0b6e3",
   "metadata": {},
   "source": [
    "Q41. How can you create a tuple in Python?"
   ]
  },
  {
   "cell_type": "code",
   "execution_count": 3,
   "id": "8872f080-2c85-46c9-8de9-d2351da6b3a6",
   "metadata": {},
   "outputs": [
    {
     "name": "stdout",
     "output_type": "stream",
     "text": [
      "('mouse', [8, 4, 6], (1, 2, 3))\n"
     ]
    }
   ],
   "source": [
    "my_tuple = (\"mouse\", [8, 4, 6], (1, 2, 3))\n",
    "print(my_tuple)"
   ]
  },
  {
   "cell_type": "raw",
   "id": "ff689179-7041-401a-915b-5a938a3baa71",
   "metadata": {},
   "source": [
    "Q42. Create a tuple and try to add your name in the tuple. Are you able to do it? Support your answer with reason."
   ]
  },
  {
   "cell_type": "code",
   "execution_count": 4,
   "id": "4974780a-02c0-488c-a75a-5ca21766b19f",
   "metadata": {},
   "outputs": [],
   "source": [
    "t=(1,7,5,9)"
   ]
  },
  {
   "cell_type": "code",
   "execution_count": 5,
   "id": "f21c9ab8-2dfe-4068-9082-d1b312a92a51",
   "metadata": {},
   "outputs": [
    {
     "name": "stdout",
     "output_type": "stream",
     "text": [
      "(1, 7, 5, 9)\n"
     ]
    }
   ],
   "source": [
    "print(t)"
   ]
  },
  {
   "cell_type": "code",
   "execution_count": 6,
   "id": "6d2927bd-1f9f-4423-9e7a-758be61ea01d",
   "metadata": {},
   "outputs": [
    {
     "ename": "AttributeError",
     "evalue": "'tuple' object has no attribute 'insert'",
     "output_type": "error",
     "traceback": [
      "\u001b[0;31m---------------------------------------------------------------------------\u001b[0m",
      "\u001b[0;31mAttributeError\u001b[0m                            Traceback (most recent call last)",
      "Cell \u001b[0;32mIn [6], line 1\u001b[0m\n\u001b[0;32m----> 1\u001b[0m \u001b[43mt\u001b[49m\u001b[38;5;241;43m.\u001b[39;49m\u001b[43minsert\u001b[49m(\u001b[38;5;124m\"\u001b[39m\u001b[38;5;124msuman\u001b[39m\u001b[38;5;124m\"\u001b[39m)\n",
      "\u001b[0;31mAttributeError\u001b[0m: 'tuple' object has no attribute 'insert'"
     ]
    }
   ],
   "source": [
    "t.insert(\"suman\")"
   ]
  },
  {
   "cell_type": "raw",
   "id": "aca4b8f8-468f-43f9-8b69-6cd30fddaf6d",
   "metadata": {},
   "source": [
    "No, we can not add additional data to a tuple after declare it. Because tuple immutable."
   ]
  },
  {
   "cell_type": "raw",
   "id": "49d5f6ab-ea37-41e5-8742-e9e1a8d95a0e",
   "metadata": {},
   "source": [
    "Q43. Can two tuple be appended. If yes, write a code for it. If not, why?"
   ]
  },
  {
   "cell_type": "code",
   "execution_count": 7,
   "id": "7acfdf80-2ec0-44ac-a173-d04f568cdef5",
   "metadata": {},
   "outputs": [
    {
     "name": "stdout",
     "output_type": "stream",
     "text": [
      "(2, 5, 8, 8, 16, 67)\n",
      "(2, 5, 8)\n"
     ]
    }
   ],
   "source": [
    "#yes,\n",
    "s=(2,5,8)\n",
    "s_append = s + (8, 16, 67)\n",
    "print(s_append)\n",
    "print(s)"
   ]
  },
  {
   "cell_type": "raw",
   "id": "6ebb5204-a583-4a76-b304-d82c9b2ce70c",
   "metadata": {},
   "source": [
    "Q44. Take a tuple as an input and print the count of elements in it."
   ]
  },
  {
   "cell_type": "code",
   "execution_count": 11,
   "id": "173b4871-0b59-4ddf-b3b0-4f45cdfe1de1",
   "metadata": {},
   "outputs": [
    {
     "name": "stdout",
     "output_type": "stream",
     "text": [
      "(2, 4, 6, 8, 10)\n"
     ]
    },
    {
     "data": {
      "text/plain": [
       "1"
      ]
     },
     "execution_count": 11,
     "metadata": {},
     "output_type": "execute_result"
    }
   ],
   "source": [
    "data = (2,4,6,8,10) \n",
    "print(data)  \n",
    "data.count(2)  "
   ]
  },
  {
   "cell_type": "raw",
   "id": "4978e325-92eb-4fb6-8401-d44d9ebfc0e3",
   "metadata": {},
   "source": [
    "Q45. What are sets in Python?"
   ]
  },
  {
   "cell_type": "raw",
   "id": "57d1bfec-25c3-44c5-9f3d-454527f59787",
   "metadata": {},
   "source": [
    "sets are used to store multiple items in a single variable. Set is one of 4 built-in data types in Python used to store collections of data, the other 3 are List, Tuple, and Dictionary, all with different qualities and usage. A set is a collection which is unordered, unchangeable*, and unindexed."
   ]
  },
  {
   "cell_type": "raw",
   "id": "ac721839-70f2-4cc6-aea9-344584d77874",
   "metadata": {},
   "source": [
    "Q46. How can you create a set?"
   ]
  },
  {
   "cell_type": "code",
   "execution_count": 13,
   "id": "92297edf-721d-43ad-9eb1-26420842bb32",
   "metadata": {},
   "outputs": [
    {
     "name": "stdout",
     "output_type": "stream",
     "text": [
      "{1.0, 'Hello', (1, 2, 3)}\n"
     ]
    }
   ],
   "source": [
    "my_set = {1.0, \"Hello\", (1, 2, 3)}\n",
    "print(my_set)"
   ]
  },
  {
   "cell_type": "raw",
   "id": "2f489a0f-ac2f-4671-974b-b8936e95d944",
   "metadata": {},
   "source": [
    "Q47. Create a set and add \"iNeuron\" in your set."
   ]
  },
  {
   "cell_type": "code",
   "execution_count": 14,
   "id": "74237be9-c1b8-4fda-b9f3-1124d1288d7d",
   "metadata": {},
   "outputs": [
    {
     "name": "stdout",
     "output_type": "stream",
     "text": [
      "{'iNeuron', 1, 2, 3}\n"
     ]
    }
   ],
   "source": [
    "items = {1, 2, 3}\n",
    "items.add(\"iNeuron\")\n",
    "print(items)\n"
   ]
  },
  {
   "cell_type": "raw",
   "id": "38eb6ee5-defa-4185-a8d9-0c6a6affefb7",
   "metadata": {},
   "source": [
    "Q48. Try to add multiple values using add() function."
   ]
  },
  {
   "cell_type": "code",
   "execution_count": 16,
   "id": "ea55af62-4f73-4317-af1e-54bb214683b7",
   "metadata": {},
   "outputs": [
    {
     "name": "stdout",
     "output_type": "stream",
     "text": [
      "{1, 2, 3, 4, 5, 9, 10}\n"
     ]
    }
   ],
   "source": [
    "items = {1, 2, 3}\n",
    "items.add(9)\n",
    "items.add(10)\n",
    "items.add(4)\n",
    "items.add(5)\n",
    "print(items)"
   ]
  },
  {
   "cell_type": "raw",
   "id": "ddb5a355-bfe3-4057-aabc-e2deb1d030eb",
   "metadata": {},
   "source": [
    "q49. how is update() different from add() in python"
   ]
  },
  {
   "cell_type": "raw",
   "id": "bc818229-69af-450b-945d-7666c0b64ed2",
   "metadata": {},
   "source": [
    "What is the difference between add and update in Python?\n",
    "We use add() method to add single value to a set. We use update() method to add sequence values to a set. Here Sequences are any iterables including list , tuple , string , dict etc."
   ]
  },
  {
   "cell_type": "raw",
   "id": "a0c2bed9-fe6d-43cb-aa06-9f03c1d77f82",
   "metadata": {},
   "source": [
    "Q50. What is clear() in sets?"
   ]
  },
  {
   "cell_type": "code",
   "execution_count": 18,
   "id": "d8f27c48-005a-4b5f-ac3e-c479d416f7d7",
   "metadata": {},
   "outputs": [
    {
     "name": "stdout",
     "output_type": "stream",
     "text": [
      "set()\n"
     ]
    }
   ],
   "source": [
    "#The clear() method removes all items from the set.\n",
    "primeNumbers = {2, 3, 5, 7}\n",
    "\n",
    "# clear all elements\n",
    "primeNumbers.clear()\n",
    "\n",
    "print(primeNumbers)\n",
    " "
   ]
  },
  {
   "cell_type": "raw",
   "id": "7ad7f935-3964-4cfe-addb-7e723594f737",
   "metadata": {},
   "source": [
    "Q51. What is frozen set?"
   ]
  },
  {
   "cell_type": "code",
   "execution_count": 19,
   "id": "3b470c4d-7d19-451b-bf8c-a80ed1cf3450",
   "metadata": {},
   "outputs": [
    {
     "name": "stdout",
     "output_type": "stream",
     "text": [
      "The frozen set is: frozenset({'address', 'college', 'age', 'name', 'sex'})\n"
     ]
    }
   ],
   "source": [
    "# Python frozenset() Method creates an immutable Set object from an iterable. It is a built-in Python function.\n",
    "Student = {\"name\": \"Ankit\", \"age\": 21, \"sex\": \"Male\",\n",
    "           \"college\": \"MNNIT Allahabad\", \"address\": \"Allahabad\"}\n",
    "\n",
    "key = frozenset(Student)\n",
    "\n",
    "print('The frozen set is:', key)"
   ]
  },
  {
   "cell_type": "raw",
   "id": "4e125565-765d-44ae-9754-111003812c37",
   "metadata": {},
   "source": [
    "Q52. How is frozen set different from set?"
   ]
  },
  {
   "cell_type": "code",
   "execution_count": null,
   "id": "78b04276-df8a-4f94-9a4b-291ea1396050",
   "metadata": {},
   "outputs": [],
   "source": []
  },
  {
   "cell_type": "raw",
   "id": "0206fd18-497b-43ac-b28c-18b7139e0b11",
   "metadata": {},
   "source": [
    "Q53. What is union() in sets? Explain via code."
   ]
  },
  {
   "cell_type": "code",
   "execution_count": 20,
   "id": "cac6abb2-5b93-496d-bb3f-5d506b44a0a4",
   "metadata": {},
   "outputs": [
    {
     "name": "stdout",
     "output_type": "stream",
     "text": [
      "A U B =  {1, 2, 3, 5}\n"
     ]
    }
   ],
   "source": [
    "#The Python set union() method returns a new set with distinct elements from all the sets.\n",
    "A = {2, 3, 5}\n",
    "B = {1, 3, 5}\n",
    "\n",
    "# compute union between A and B\n",
    "print('A U B = ', A.union(B))\n"
   ]
  },
  {
   "cell_type": "raw",
   "id": "23f8a4dc-fd64-4376-a055-896c52403aed",
   "metadata": {},
   "source": [
    "Q54. What is intersection() in sets? Explain via code."
   ]
  },
  {
   "cell_type": "code",
   "execution_count": 21,
   "id": "ab7846c3-c71e-4618-8c8c-afc0ae50c95c",
   "metadata": {},
   "outputs": [
    {
     "name": "stdout",
     "output_type": "stream",
     "text": [
      "{3, 5}\n"
     ]
    }
   ],
   "source": [
    "#The intersection() method returns a new set with elements that are common to all sets.\n",
    "A = {2, 3, 5}\n",
    "B = {1, 3, 5}\n",
    "\n",
    "# compute intersection between A and B\n",
    "print(A.intersection(B))"
   ]
  },
  {
   "cell_type": "raw",
   "id": "4b8e764e-88ef-46f0-aac4-d9dbe084f286",
   "metadata": {},
   "source": [
    "Q55. What is dictionary ibn Python?"
   ]
  },
  {
   "cell_type": "code",
   "execution_count": null,
   "id": "873e9697-14d4-4cd6-9481-caed0740ead6",
   "metadata": {},
   "outputs": [],
   "source": []
  },
  {
   "cell_type": "raw",
   "id": "ee5febb1-62b4-4b4a-9443-1826d874a446",
   "metadata": {},
   "source": [
    "Q56. How is dictionary different from all other data structures."
   ]
  },
  {
   "cell_type": "code",
   "execution_count": null,
   "id": "0a78e607-a6bb-4d0e-94eb-060f15cbca04",
   "metadata": {},
   "outputs": [],
   "source": []
  },
  {
   "cell_type": "raw",
   "id": "c490ec25-2733-43a0-8ce1-02368b6d844d",
   "metadata": {},
   "source": [
    "Q57. How can we delare a dictionary in Python?"
   ]
  },
  {
   "cell_type": "code",
   "execution_count": 23,
   "id": "d17a69cc-8ee0-4b19-8f91-e763157213e3",
   "metadata": {},
   "outputs": [
    {
     "name": "stdout",
     "output_type": "stream",
     "text": [
      "{1: 'apple', 2: 'ball'}\n"
     ]
    }
   ],
   "source": [
    "# empty dictionary\n",
    "my_dict = {}\n",
    "\n",
    "# dictionary with integer keys\n",
    "my_dict = {1: 'apple', 2: 'ball'}\n",
    "print(my_dict)"
   ]
  },
  {
   "cell_type": "raw",
   "id": "e554ae4d-9570-4e8c-b787-084ca4322f36",
   "metadata": {},
   "source": [
    "Q58. What will the output of the following?\n",
    "\n",
    "var = {}\n",
    "print(type(var))"
   ]
  },
  {
   "cell_type": "raw",
   "id": "570875cf-312b-4015-a6d0-628e55b89d90",
   "metadata": {},
   "source": [
    "set()"
   ]
  },
  {
   "cell_type": "raw",
   "id": "467a53c1-02c0-4e15-b6ec-30a322010510",
   "metadata": {},
   "source": [
    "Q59. How can we add an element in a dictionary?"
   ]
  },
  {
   "cell_type": "code",
   "execution_count": null,
   "id": "236930c0-3861-4ce5-9c98-df48e2364dee",
   "metadata": {},
   "outputs": [],
   "source": []
  },
  {
   "cell_type": "raw",
   "id": "b8343054-f0f5-4eaf-b33d-4920885729a5",
   "metadata": {},
   "source": [
    "Q60. Create a dictionary and access all the values in that dictionary.\n"
   ]
  },
  {
   "cell_type": "code",
   "execution_count": null,
   "id": "93ec0434-aa18-426d-9053-5a75c5743ff1",
   "metadata": {},
   "outputs": [],
   "source": []
  },
  {
   "cell_type": "raw",
   "id": "70b86158-31f7-4176-ae5d-ca9c0d51ee32",
   "metadata": {},
   "source": [
    "Q61. Create a nested dictionary and access all the element in the inner dictionary."
   ]
  },
  {
   "cell_type": "code",
   "execution_count": 1,
   "id": "52d1d378-1866-4c1d-a8a4-1d0b48c5096a",
   "metadata": {},
   "outputs": [
    {
     "name": "stdout",
     "output_type": "stream",
     "text": [
      "{1: {'name': 'John', 'age': '27', 'sex': 'Male'}, 2: {'name': 'Marie', 'age': '22', 'sex': 'Female'}}\n"
     ]
    }
   ],
   "source": [
    "people = {1: {'name': 'John', 'age': '27', 'sex': 'Male'},\n",
    "          2: {'name': 'Marie', 'age': '22', 'sex': 'Female'}}\n",
    "\n",
    "print(people)\n"
   ]
  },
  {
   "cell_type": "code",
   "execution_count": 2,
   "id": "f0f47333-a1e8-4026-b3a1-22cedf85b8a2",
   "metadata": {},
   "outputs": [
    {
     "name": "stdout",
     "output_type": "stream",
     "text": [
      "John\n",
      "27\n",
      "Male\n"
     ]
    }
   ],
   "source": [
    "print(people[1]['name'])\n",
    "print(people[1]['age'])\n",
    "print(people[1]['sex'])"
   ]
  },
  {
   "cell_type": "raw",
   "id": "6caf882c-89ad-422c-9d45-e8c8c9beda86",
   "metadata": {},
   "source": [
    "Q62. What is the use of get() function?"
   ]
  },
  {
   "cell_type": "code",
   "execution_count": 3,
   "id": "49b3c462-c249-4116-9c13-946a64e27004",
   "metadata": {},
   "outputs": [
    {
     "name": "stdout",
     "output_type": "stream",
     "text": [
      "Mustang\n"
     ]
    }
   ],
   "source": [
    "car = {\n",
    "  \"brand\": \"Ford\",\n",
    "  \"model\": \"Mustang\",\n",
    "  \"year\": 1964\n",
    "}\n",
    "\n",
    "x = car.get(\"model\")\n",
    "\n",
    "print(x)\n",
    "#The get() method returns the value of the item with the specified key."
   ]
  },
  {
   "cell_type": "raw",
   "id": "fa9fbd0f-bbc5-405c-b979-ce4016e0e07b",
   "metadata": {},
   "source": [
    "Q63. What is the use of items() function?"
   ]
  },
  {
   "cell_type": "code",
   "execution_count": 4,
   "id": "08b4ac75-f4b1-49b3-a1db-c170e382ba04",
   "metadata": {},
   "outputs": [
    {
     "name": "stdout",
     "output_type": "stream",
     "text": [
      "dict_items([('brand', 'Ford'), ('model', 'Mustang'), ('year', 1964)])\n"
     ]
    }
   ],
   "source": [
    "#The items() method returns a view object. The view object contains the key-value pairs of the dictionary, as tuples in a list.\n",
    "car = {\n",
    "  \"brand\": \"Ford\",\n",
    "  \"model\": \"Mustang\",\n",
    "  \"year\": 1964\n",
    "}\n",
    "\n",
    "x = car.items()\n",
    "\n",
    "print(x)"
   ]
  },
  {
   "cell_type": "raw",
   "id": "73893fcb-ac64-41ae-be9d-3e2167ca7ca7",
   "metadata": {},
   "source": [
    "Q64. What is the use of pop() function?"
   ]
  },
  {
   "cell_type": "code",
   "execution_count": 5,
   "id": "abe1d53f-1c0b-4d27-a756-1b3eb2cf38ba",
   "metadata": {},
   "outputs": [
    {
     "data": {
      "text/plain": [
       "'banana'"
      ]
     },
     "execution_count": 5,
     "metadata": {},
     "output_type": "execute_result"
    }
   ],
   "source": [
    "#The pop() method removes the element at the specified position.\n",
    "fruits = ['apple', 'banana', 'cherry']\n",
    "\n",
    "fruits.pop(1)\n",
    "\n"
   ]
  },
  {
   "cell_type": "raw",
   "id": "2e0321b6-fb64-42b2-a47f-bac76f60cad3",
   "metadata": {},
   "source": [
    "Q65. What is the use of popitems() function?"
   ]
  },
  {
   "cell_type": "code",
   "execution_count": 6,
   "id": "c27b0a4e-fecb-4cf7-ab1c-80f9f2bcf06f",
   "metadata": {},
   "outputs": [
    {
     "name": "stdout",
     "output_type": "stream",
     "text": [
      "{'brand': 'Ford', 'model': 'Mustang'}\n"
     ]
    }
   ],
   "source": [
    "#The popitem() method removes the item that was last inserted into the dictionary. I\n",
    "car = {\n",
    "  \"brand\": \"Ford\",\n",
    "  \"model\": \"Mustang\",\n",
    "  \"year\": 1964\n",
    "}\n",
    "\n",
    "car.popitem()\n",
    "\n",
    "print(car)"
   ]
  },
  {
   "cell_type": "raw",
   "id": "705fa43d-d369-4635-814a-253fe0824b4a",
   "metadata": {},
   "source": [
    "Q66. What is the use of keys() function?"
   ]
  },
  {
   "cell_type": "code",
   "execution_count": 7,
   "id": "21f884c6-54e1-4eae-8f49-2a7e7656ed4b",
   "metadata": {},
   "outputs": [
    {
     "name": "stdout",
     "output_type": "stream",
     "text": [
      "dict_keys(['brand', 'model', 'year'])\n"
     ]
    }
   ],
   "source": [
    "#he keys() method returns a view object. The view object contains the keys of the dictionary, as a list.\n",
    "car = {\n",
    "  \"brand\": \"Ford\",\n",
    "  \"model\": \"Mustang\",\n",
    "  \"year\": 1964\n",
    "}\n",
    "\n",
    "x = car.keys()\n",
    "\n",
    "print(x)"
   ]
  },
  {
   "cell_type": "raw",
   "id": "e11f1da2-4036-40f4-a756-fe5779974a67",
   "metadata": {},
   "source": [
    "Q67. What is the use of values() function?"
   ]
  },
  {
   "cell_type": "code",
   "execution_count": 8,
   "id": "55a7cd11-bd77-4966-802f-b24b2f9ee1e5",
   "metadata": {},
   "outputs": [
    {
     "name": "stdout",
     "output_type": "stream",
     "text": [
      "dict_values(['Ford', 'Mustang', 1964])\n"
     ]
    }
   ],
   "source": [
    "#The values() method returns a view object. The view object contains the values of the dictionary, as a list.\n",
    "car = {\n",
    "  \"brand\": \"Ford\",\n",
    "  \"model\": \"Mustang\",\n",
    "  \"year\": 1964\n",
    "}\n",
    "\n",
    "x = car.values()\n",
    "\n",
    "print(x)"
   ]
  },
  {
   "cell_type": "raw",
   "id": "841cf985-fde5-456d-ac80-f9764104f563",
   "metadata": {},
   "source": [
    "Q68. What are loops in Python?"
   ]
  },
  {
   "cell_type": "raw",
   "id": "9979e37a-59a0-4735-9994-fa19c943ba69",
   "metadata": {},
   "source": [
    " loop is used for iterating over a sequence (that is either a list, a tuple, a dictionary, a set, or a string).\n"
   ]
  },
  {
   "cell_type": "raw",
   "id": "99abf2d6-d437-4425-9524-196a873fa356",
   "metadata": {},
   "source": [
    "Q69. How many type of loop are there in Python?"
   ]
  },
  {
   "cell_type": "raw",
   "id": "36899602-985e-4886-a753-80054f09b03a",
   "metadata": {},
   "source": [
    "2 (for loop , while loop)"
   ]
  },
  {
   "cell_type": "raw",
   "id": "07253ce7-6c63-4479-9981-fedbc313474f",
   "metadata": {},
   "source": [
    "Q70. What is the difference between for and while loops?"
   ]
  },
  {
   "cell_type": "markdown",
   "id": "4c9aa770-25d6-4d95-a11d-3a24e6e2cb9e",
   "metadata": {},
   "source": [
    "For Loop:\n",
    "    It is used when the number of iterations is known.\n",
    "    In case of no condition, the loop is repeated infinite times.\n",
    "    Initialization is not repeated.\n",
    "    Statement of Iteration is written after running.\n",
    "    while loop:\n",
    "    It is used when the number of iterations is not known.\n",
    "    In case of no condition, an error will be shown.\n",
    "    Initialization is repeated if carried out during the stage of checking."
   ]
  },
  {
   "cell_type": "raw",
   "id": "dd276241-74ce-496f-abfd-7f155abefe66",
   "metadata": {},
   "source": [
    "Q71. What is the use of continue statement?"
   ]
  },
  {
   "cell_type": "raw",
   "id": "e831ff05-9d37-49d2-a31f-35aab2554984",
   "metadata": {},
   "source": [
    "The continue keyword is used to end the current iteration in a for loop (or a while loop), and continues to the next iteration."
   ]
  },
  {
   "cell_type": "raw",
   "id": "2f3eb024-e3eb-4497-bc1d-64036ef67d6f",
   "metadata": {},
   "source": [
    "Q72. What is the use of break statement?"
   ]
  },
  {
   "cell_type": "raw",
   "id": "bd892a63-f8f9-4a71-939f-ed274fceebfb",
   "metadata": {},
   "source": [
    "'Break' in Python is a loop control statement. It is used to control the sequence of the loop. Suppose you want to terminate a loop and skip to the next code after the loop; break will help you do that"
   ]
  },
  {
   "cell_type": "raw",
   "id": "97143b54-17ec-4d76-b201-d15cfcd36dd6",
   "metadata": {},
   "source": [
    "Q73. What is the use of pass statement?"
   ]
  },
  {
   "cell_type": "raw",
   "id": "427d9c80-cc98-421a-b655-1cace395ea9c",
   "metadata": {},
   "source": [
    "In Python programming, the pass statement is a null statement which can be used as a placeholder for future code.\n",
    "\n",
    "Suppose we have a loop or a function that is not implemented yet, but we want to implement it in the future. In such cases, we can use the pass statement."
   ]
  },
  {
   "cell_type": "raw",
   "id": "03623d9a-ff1f-43f5-bb80-4729f55829eb",
   "metadata": {},
   "source": [
    "Q74. What is the use of range() function?"
   ]
  },
  {
   "cell_type": "raw",
   "id": "87f83a10-c9c4-45a8-9816-92f16c18e1f7",
   "metadata": {},
   "source": [
    "The Python range() function returns a sequence of numbers, in a given range. The most common use of it is to iterate sequence on a sequence of numbers using Python loops."
   ]
  },
  {
   "cell_type": "raw",
   "id": "e54dce8d-5a5c-4a58-bcd7-21f79634034b",
   "metadata": {},
   "source": [
    "Q75. How can you loop over a dictionary?"
   ]
  },
  {
   "cell_type": "code",
   "execution_count": null,
   "id": "ce03cfea-f05d-484a-8ac6-b10261c28ec1",
   "metadata": {},
   "outputs": [],
   "source": []
  }
 ],
 "metadata": {
  "kernelspec": {
   "display_name": "Python 3 (ipykernel)",
   "language": "python",
   "name": "python3"
  },
  "language_info": {
   "codemirror_mode": {
    "name": "ipython",
    "version": 3
   },
   "file_extension": ".py",
   "mimetype": "text/x-python",
   "name": "python",
   "nbconvert_exporter": "python",
   "pygments_lexer": "ipython3",
   "version": "3.10.6"
  }
 },
 "nbformat": 4,
 "nbformat_minor": 5
}
