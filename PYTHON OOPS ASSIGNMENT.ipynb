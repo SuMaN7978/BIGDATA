{
 "cells": [
  {
   "cell_type": "markdown",
   "id": "22badb98-32bd-4bf3-bd29-40c63f228508",
   "metadata": {},
   "source": [
    "# Q1. What is the purpose of Python's OOP?"
   ]
  },
  {
   "cell_type": "raw",
   "id": "e116803e-3f3d-4ba8-b5e2-6c8aaee3d0a3",
   "metadata": {},
   "source": [
    "In Python, object-oriented Programming (OOPs) is a programming paradigm that uses objects and classes in programming. It aims to implement real-world entities like inheritance, polymorphisms, encapsulation, etc. in the programming. The main concept of OOPs is to bind the data and the functions that work on that together as a single unit so that no other part of the code can access this data."
   ]
  },
  {
   "cell_type": "markdown",
   "id": "2ec67523-387c-4ce3-a507-988dd04651ce",
   "metadata": {},
   "source": [
    "# Q2. Where does an inheritance search look for an attribute?"
   ]
  },
  {
   "cell_type": "raw",
   "id": "7013373a-ccce-49a4-8dcb-429723939d69",
   "metadata": {},
   "source": [
    "An inheritance search looks for an attribute first in the instance object, then in the class the instance was created from, then in all higher superclasses, progressing from left to right (by default). The search stops at the first place the attribute is found."
   ]
  },
  {
   "cell_type": "markdown",
   "id": "6bec075c-0a25-4a3f-bbc7-1722cf41798e",
   "metadata": {},
   "source": [
    "# Q3. How do you distinguish between a class object and an instance object?"
   ]
  },
  {
   "cell_type": "raw",
   "id": "7df1014b-baeb-4f2b-8d2a-d14808b77390",
   "metadata": {},
   "source": [
    "Classes are a kind of factory for creating multiple instances. Classes also support operator overloading methods, which instances inherit, and treat any functions nested in the class as methods for processing instances.\n"
   ]
  },
  {
   "cell_type": "markdown",
   "id": "24fa785b-675c-4c50-aeb8-5ba1e0aafd65",
   "metadata": {},
   "source": [
    "# Q4. What makes the first argument in a class’s method function special?"
   ]
  },
  {
   "cell_type": "raw",
   "id": "89131118-2700-4b4d-842a-26134034abab",
   "metadata": {},
   "source": [
    "It always receives the instance object that is the implied subject of the method call. It’s usually called 'self' by convention."
   ]
  },
  {
   "cell_type": "markdown",
   "id": "dd990e12-3842-4dce-b3fb-ae1c48791b16",
   "metadata": {},
   "source": [
    "# Q5. What is the purpose of the init method?"
   ]
  },
  {
   "cell_type": "raw",
   "id": "6f6761be-ef66-464a-ae69-698c39cdc437",
   "metadata": {},
   "source": [
    "f the __init__ method is coded or inherited in a class, Python calls it automatically each time an instance of that class is created.\n",
    "class New():\n",
    "def __init__(self, arg1, arg2):\n",
    "self.first_var = arg1\n",
    "self.second_var = arg2"
   ]
  },
  {
   "cell_type": "markdown",
   "id": "a7e637fd-4a93-40ae-b51b-236d2a6c2945",
   "metadata": {},
   "source": [
    "# Q6. What is the process for creating a class instance?"
   ]
  },
  {
   "cell_type": "raw",
   "id": "d49f821e-7ecd-4616-b2df-d4177b5d9f60",
   "metadata": {},
   "source": [
    "You create a class instance by calling the class name as though it were a function; any arguments passed into the class name show up as arguments two and beyond in the __init__ constructor method.\n",
    "\n",
    "x = ClassName()\n",
    "y = AnotherClass(arg1, arg2)"
   ]
  },
  {
   "cell_type": "markdown",
   "id": "6a77a368-44aa-4562-80b0-f0beff4ccec5",
   "metadata": {},
   "source": [
    "# Q7. What is the process for creating a class?"
   ]
  },
  {
   "cell_type": "raw",
   "id": "f10227c0-f134-4955-a6fd-041d62589943",
   "metadata": {},
   "source": [
    "Python is an object oriented programming language.\n",
    "\n",
    "Almost everything in Python is an object, with its properties and methods.\n",
    "\n",
    "A Class is like an object constructor, or a \"blueprint\" for creating objects.\n",
    "\n"
   ]
  },
  {
   "cell_type": "markdown",
   "id": "450a2ee7-a0a0-4abf-82fa-eb4eff35e2a1",
   "metadata": {},
   "source": [
    "# Q8. How would you define the superclasses of a class?"
   ]
  },
  {
   "cell_type": "raw",
   "id": "969c1444-0a72-4bcd-91a0-1e7141f16272",
   "metadata": {},
   "source": [
    "They are classes which are used to inherit from.\n",
    "\n",
    "class Son(Mother, Father): ...\n",
    "\n",
    "In this case Mother and Father are superclasses for Son subclass.\n"
   ]
  },
  {
   "cell_type": "markdown",
   "id": "ca3a859b-a488-4577-889b-656269cc8bfd",
   "metadata": {},
   "source": [
    "# Q9. What is the relationship between classes and modules?"
   ]
  },
  {
   "cell_type": "code",
   "execution_count": null,
   "id": "28020627-4ad1-45e3-961c-ed56adb13627",
   "metadata": {},
   "outputs": [],
   "source": []
  },
  {
   "cell_type": "markdown",
   "id": "5978d140-383a-4ef2-b7bc-8a4bb69a329e",
   "metadata": {},
   "source": [
    "# Q10. How do you make instances and classes?"
   ]
  },
  {
   "cell_type": "code",
   "execution_count": null,
   "id": "a37f7e9d-8796-41a0-90e7-f602ce854ccb",
   "metadata": {},
   "outputs": [],
   "source": []
  },
  {
   "cell_type": "markdown",
   "id": "2eb3d064-df12-450d-812f-f8d420c514bc",
   "metadata": {},
   "source": [
    "# Q11. Where and how should be class attributes created?"
   ]
  },
  {
   "cell_type": "raw",
   "id": "bc8f435b-01c0-4ec6-8004-a0db7cd3a4b4",
   "metadata": {},
   "source": []
  },
  {
   "cell_type": "markdown",
   "id": "005f28a4-7ca0-464b-8d80-8bb44eee73ec",
   "metadata": {},
   "source": [
    "# Q12. Where and how are instance attributes created?"
   ]
  },
  {
   "cell_type": "code",
   "execution_count": null,
   "id": "159f6883-9c74-4c5a-adc0-e60943d71014",
   "metadata": {},
   "outputs": [],
   "source": []
  },
  {
   "cell_type": "markdown",
   "id": "ccef5bd0-d32e-4142-9d6e-b41faee4ca4b",
   "metadata": {},
   "source": [
    "# Q13. What does the term \"self\" in a Python class mean?"
   ]
  },
  {
   "cell_type": "code",
   "execution_count": 1,
   "id": "71d7a55f-5322-4ce1-90eb-b59c60096abb",
   "metadata": {},
   "outputs": [
    {
     "name": "stdout",
     "output_type": "stream",
     "text": [
      "Address of self =  139819038676816\n",
      "Address of class object =  139819038676816\n"
     ]
    }
   ],
   "source": [
    "#self represents the instance of the class. By using the “self”  we can access the attributes and methods of the class in python. It binds the attributes with the given arguments.\n",
    "# The reason you need to use self. is because Python does not use the @ syntax to refer to instance attributes. \n",
    "class check:\n",
    "    def __init__(self):\n",
    "        print(\"Address of self = \",id(self))\n",
    "  \n",
    "obj = check()\n",
    "print(\"Address of class object = \",id(obj))\n",
    "  "
   ]
  },
  {
   "cell_type": "markdown",
   "id": "5d0e0792-3d31-4ed1-bb68-b077892907b3",
   "metadata": {},
   "source": [
    "# Q14. How does a Python class handle operator overloading?"
   ]
  },
  {
   "cell_type": "code",
   "execution_count": 2,
   "id": "68066ee3-9683-4eb1-894a-082cd37d4b26",
   "metadata": {},
   "outputs": [
    {
     "name": "stdout",
     "output_type": "stream",
     "text": [
      "(44, 34)\n"
     ]
    }
   ],
   "source": [
    "class complex_1:  \n",
    "    def __init__(self, X, Y):  \n",
    "        self.X = X  \n",
    "        self.Y = Y  \n",
    "   \n",
    "    # Now, we will add the two objects  \n",
    "    def __add__(self, U):  \n",
    "        return self.X + U.X, self.Y + U.Y  \n",
    "   \n",
    "Object_1 = complex_1(23, 12)  \n",
    "Object_2 = complex_1(21, 22)  \n",
    "Object_3 = Object_1 + Object_2  \n",
    "print (Object_3)  "
   ]
  },
  {
   "cell_type": "markdown",
   "id": "32bfcbf3-a853-4cf9-9ec0-c9824c9d7a38",
   "metadata": {},
   "source": [
    "# Q15. When do you consider allowing operator overloading of your classes?"
   ]
  },
  {
   "cell_type": "code",
   "execution_count": null,
   "id": "defa502f-0546-4708-bdbe-2b4704d2a67b",
   "metadata": {},
   "outputs": [],
   "source": []
  },
  {
   "cell_type": "markdown",
   "id": "c522d235-9acf-401d-9be4-48661d3ba775",
   "metadata": {},
   "source": [
    "# Q16. What is the most popular form of operator overloading?"
   ]
  },
  {
   "cell_type": "code",
   "execution_count": null,
   "id": "c4ae7297-6813-4a17-bc76-4399dd1b5cc6",
   "metadata": {},
   "outputs": [],
   "source": []
  },
  {
   "cell_type": "markdown",
   "id": "4313800a-d370-4b8f-8428-41133691de28",
   "metadata": {},
   "source": [
    "# Q17. What are the two most important concepts to grasp in order to comprehend Python OOP code?"
   ]
  },
  {
   "cell_type": "raw",
   "id": "d8f27ae1-90ed-44a1-ad85-4d1aeff79667",
   "metadata": {},
   "source": [
    " IN OOP inheritance and polymorphism. Both inheritance and polymorphism are key ingredients for designing robust, flexible, and easy-to-maintain software"
   ]
  },
  {
   "cell_type": "markdown",
   "id": "e7fcb466-870d-402d-9381-a216cdd49e46",
   "metadata": {},
   "source": [
    "# Q18. Describe three applications for exception processing."
   ]
  },
  {
   "cell_type": "raw",
   "id": "8173c18a-3e23-4b68-86ab-f9fe2b843a8b",
   "metadata": {},
   "source": [
    "1\t\n",
    "Exception\n",
    "\n",
    "Base class for all exceptions\n",
    "\n",
    "2\t\n",
    "StopIteration\n",
    "\n",
    "Raised when the next() method of an iterator does not point to any object.\n",
    "\n",
    "3\t\n",
    "SystemExit\n",
    "\n",
    "Raised by the sys.exit() function."
   ]
  },
  {
   "cell_type": "markdown",
   "id": "88cb1cf1-2d1f-49af-b7d5-c20564cc60e6",
   "metadata": {},
   "source": [
    "# Q19. What happens if you don't do something extra to treat an exception?"
   ]
  },
  {
   "cell_type": "code",
   "execution_count": null,
   "id": "ac993130-b190-401d-ab3c-12b275465d83",
   "metadata": {},
   "outputs": [],
   "source": []
  },
  {
   "cell_type": "markdown",
   "id": "0d65db4a-897e-4b95-89b1-b8144fca1625",
   "metadata": {},
   "source": [
    "# Q20. What are your options for recovering from an exception in your script?"
   ]
  },
  {
   "cell_type": "code",
   "execution_count": null,
   "id": "a1fc4292-69bf-42d3-a03e-ef960398f94c",
   "metadata": {},
   "outputs": [],
   "source": []
  },
  {
   "cell_type": "markdown",
   "id": "107a9542-3344-47f5-9a2a-3b074d1a2d95",
   "metadata": {},
   "source": [
    "# Q21. Describe two methods for triggering exceptions in your script."
   ]
  },
  {
   "cell_type": "code",
   "execution_count": null,
   "id": "c0d65770-c412-4895-aa86-ca3f8a5b69a0",
   "metadata": {},
   "outputs": [],
   "source": []
  },
  {
   "cell_type": "markdown",
   "id": "76dc73bd-2a89-41e1-a4bb-3dfbe8826b91",
   "metadata": {},
   "source": [
    "# Q22. Identify two methods for specifying actions to be executed at termination time, regardless of whether or not an exception exists."
   ]
  },
  {
   "cell_type": "code",
   "execution_count": null,
   "id": "82397907-ef79-429f-83a1-f2e2d49a69b9",
   "metadata": {},
   "outputs": [],
   "source": []
  },
  {
   "cell_type": "markdown",
   "id": "d8477aab-29b6-4463-8c4e-381790203c43",
   "metadata": {},
   "source": [
    "# Q23. What is the purpose of the try statement?"
   ]
  },
  {
   "cell_type": "raw",
   "id": "93992ef7-81d5-45be-86cb-e4bf2fdfcb01",
   "metadata": {},
   "source": [
    "The try block lets you test a block of code for errors. The except block lets you handle the error. The else block lets you execute code when there is no error. The finally block lets you execute code, regardless of the result of the try- and except blocks."
   ]
  },
  {
   "cell_type": "markdown",
   "id": "1e34e048-1926-463b-b81d-07a92717c3ed",
   "metadata": {},
   "source": [
    "# Q24. What are the two most popular try statement variations?"
   ]
  },
  {
   "cell_type": "markdown",
   "id": "dc61a4dc-37d0-4f90-9ca4-cc693bb56e44",
   "metadata": {},
   "source": []
  },
  {
   "cell_type": "markdown",
   "id": "7905df14-01d9-4dc1-8ba2-8659b4922278",
   "metadata": {},
   "source": [
    "# Q25. What is the purpose of the raise statement?"
   ]
  },
  {
   "cell_type": "code",
   "execution_count": 1,
   "id": "47e81740-e9f1-4028-a858-53acf9ebbc47",
   "metadata": {},
   "outputs": [
    {
     "ename": "TypeError",
     "evalue": "Only integers are allowed",
     "output_type": "error",
     "traceback": [
      "\u001b[0;31m---------------------------------------------------------------------------\u001b[0m",
      "\u001b[0;31mTypeError\u001b[0m                                 Traceback (most recent call last)",
      "Cell \u001b[0;32mIn [1], line 7\u001b[0m\n\u001b[1;32m      4\u001b[0m x \u001b[38;5;241m=\u001b[39m \u001b[38;5;124m\"\u001b[39m\u001b[38;5;124mhello\u001b[39m\u001b[38;5;124m\"\u001b[39m\n\u001b[1;32m      6\u001b[0m \u001b[38;5;28;01mif\u001b[39;00m \u001b[38;5;129;01mnot\u001b[39;00m \u001b[38;5;28mtype\u001b[39m(x) \u001b[38;5;129;01mis\u001b[39;00m \u001b[38;5;28mint\u001b[39m:\n\u001b[0;32m----> 7\u001b[0m   \u001b[38;5;28;01mraise\u001b[39;00m \u001b[38;5;167;01mTypeError\u001b[39;00m(\u001b[38;5;124m\"\u001b[39m\u001b[38;5;124mOnly integers are allowed\u001b[39m\u001b[38;5;124m\"\u001b[39m)\n",
      "\u001b[0;31mTypeError\u001b[0m: Only integers are allowed"
     ]
    }
   ],
   "source": [
    "#The raise keyword is used to raise an exception.\n",
    "\n",
    "#You can define what kind of error to raise, and the text to print to the user.\n",
    "x = \"hello\"\n",
    "\n",
    "if not type(x) is int:\n",
    "  raise TypeError(\"Only integers are allowed\")\n"
   ]
  },
  {
   "cell_type": "markdown",
   "id": "4e07d681-fd3f-40f6-a286-e6b2955c1417",
   "metadata": {},
   "source": [
    "# Q26. What does the assert statement do, and what other statement is it like?"
   ]
  },
  {
   "cell_type": "code",
   "execution_count": null,
   "id": "01596d07-2133-4bbe-9552-dd3381e206e6",
   "metadata": {},
   "outputs": [],
   "source": []
  },
  {
   "cell_type": "markdown",
   "id": "55582767-23c7-4e8e-bdc0-6fcc9a2d0c0b",
   "metadata": {},
   "source": [
    "# Q27. What is the purpose of the with/as argument, and what other statement is it like"
   ]
  },
  {
   "cell_type": "code",
   "execution_count": null,
   "id": "da36349e-2ea4-41c0-8b44-97f70a0466a9",
   "metadata": {},
   "outputs": [],
   "source": [
    "# Python, with statement is used in exception handling to make the code cleaner and much more readable. It simplifies the management of common resources like file streams. Observe the following code example on how the use of with statement makes code cleaner. \n",
    "\n",
    "# file handling\n",
    "# file handling\n",
    " \n",
    "# 1) without using with statement\n",
    "file = open('file_path', 'w')\n",
    "file.write('hello world !')\n",
    "file.close()\n",
    " \n",
    "# 2) without using with statement\n",
    "file = open('file_path', 'w')\n",
    "try:\n",
    "    file.write('hello world')\n",
    "finally:\n",
    "    file.close()"
   ]
  },
  {
   "cell_type": "markdown",
   "id": "276fa9da-a4ea-40c5-86bb-6061c575c98f",
   "metadata": {},
   "source": [
    "# Q28. What are *args, **kwargs?"
   ]
  },
  {
   "cell_type": "raw",
   "id": "c87b044a-269b-4344-a01d-1eefb276b98a",
   "metadata": {},
   "source": [
    "When you are not clear how many arguments you need to pass to a particular function, then we use *args and **kwargs.\n",
    "\n",
    "The *args keyword represents a varied number of arguments.  It is used to add together the values of multiple arguments \n",
    "\n",
    "The **kwargs keyword represents an arbitrary number of arguments that are passed to a function. **kwargs keywords are stored in a dictionary. You can access each item by referring to the keyword you associated with an argument when you passed the argument.\n",
    "\n",
    "args Python Example:\n",
    "\n",
    "def sum(*args):\n",
    "\ttotal = 0\n",
    "\tfor a in args:\n",
    "\t\ttotal = total + a\n",
    "\tprint(total)\n",
    "\n",
    "sum(1,2,3,4,5)\n",
    "\n",
    "Output:\n",
    "15\n",
    "\n",
    "\n",
    "**Kwargs Python Example:\n",
    "\n",
    "def show(**kwargs):\n",
    "\tprint(kwargs)\n",
    "\n",
    "show(A=1,B=2,C=3)\n",
    "\n",
    "\n",
    "Output:\n",
    "{'A': 1, 'B': 2, 'C': 3}\n",
    "\n"
   ]
  },
  {
   "cell_type": "markdown",
   "id": "a4c1a3dd-ee90-4d6a-bd36-80f0c5c328de",
   "metadata": {},
   "source": [
    "# Q29. How can I pass optional or keyword parameters from one function to another?"
   ]
  },
  {
   "cell_type": "raw",
   "id": "eae123da-06fc-4163-90a3-c98c57554fb0",
   "metadata": {},
   "source": [
    " we can pass a functional key paramenter by using *arg and **karg specifiers ."
   ]
  },
  {
   "cell_type": "markdown",
   "id": "6a56a32b-2b82-4ef5-a420-f748e0f0cfda",
   "metadata": {},
   "source": [
    "# Q30. What are Lambda Functions?"
   ]
  },
  {
   "cell_type": "raw",
   "id": "ea22a46d-ce30-4b88-8481-eece71a264a8",
   "metadata": {},
   "source": [
    "Python Lambda Functions are anonymous function means that the function is without a name. As we already know that the def keyword is used to define a normal function in Python. Similarly, the lambda keyword is used to define an anonymous function in Python. "
   ]
  },
  {
   "cell_type": "markdown",
   "id": "c630004c-b396-445b-b773-fce3b9fdf896",
   "metadata": {},
   "source": [
    "# Q31. Explain Inheritance in Python with an example?"
   ]
  },
  {
   "cell_type": "code",
   "execution_count": 3,
   "id": "35f05bcc-d7ea-482c-970f-2a548f389cb6",
   "metadata": {},
   "outputs": [
    {
     "name": "stdout",
     "output_type": "stream",
     "text": [
      "SUMAN 102\n"
     ]
    }
   ],
   "source": [
    "# Inheritance is a powerful feature in object oriented programming.\n",
    "\n",
    "# It refers to defining a new class with little or no modification to an existing class. The new class is called derived (or child) class and the one from which it inherits is called the base (or parent) class.\n",
    "\n",
    "class Person(object):\n",
    "   \n",
    "  # Constructor\n",
    "  def __init__(self, name, id):\n",
    "    self.name = name\n",
    "    self.id = id\n",
    " \n",
    "  # To check if this person is an employee(method)\n",
    "  def Display(self):\n",
    "    print(self.name, self.id)\n",
    " \n",
    " \n",
    "# object\n",
    "emp = Person(\"SUMAN\", 102) # An Object of Person\n",
    "emp.Display()\n"
   ]
  },
  {
   "cell_type": "markdown",
   "id": "00edef2a-c608-4180-a474-e81ff61186c9",
   "metadata": {},
   "source": [
    "# Q32. Suppose class C inherits from classes A and B as class C(A,B).Classes A and B both have their own versions of method func(). If we call func() from an object of class C, which version gets invoked?"
   ]
  },
  {
   "cell_type": "code",
   "execution_count": null,
   "id": "91e99cac-1112-4164-9c98-1b9153438ec7",
   "metadata": {},
   "outputs": [],
   "source": []
  },
  {
   "cell_type": "markdown",
   "id": "8b42b958-97bf-4d50-a21b-efac61f9bd93",
   "metadata": {},
   "source": [
    "# Q33. Which methods/functions do we use to determine the type of instance and inheritance?"
   ]
  },
  {
   "cell_type": "raw",
   "id": "e84045ce-8e04-4c21-8ca8-f64add17f601",
   "metadata": {},
   "source": [
    "Python has two built-in functions that work with inheritance:\n",
    "Use isinstance() to check an instance's type: isinstance(obj, int) will be True only if obj.__class__ is int or some class derived from int .\n",
    "Use issubclass() to check class inheritance: issubclass(bool, int) is True since bool is a subclass of int .\n"
   ]
  },
  {
   "cell_type": "markdown",
   "id": "7252604c-1982-45b7-a34e-14965e7a7a3b",
   "metadata": {},
   "source": [
    "# Q34.Explain the use of the 'nonlocal' keyword in Python."
   ]
  },
  {
   "cell_type": "code",
   "execution_count": 3,
   "id": "a612114c-5a10-4934-ad72-0253c1800425",
   "metadata": {},
   "outputs": [
    {
     "name": "stdout",
     "output_type": "stream",
     "text": [
      "John\n"
     ]
    }
   ],
   "source": [
    "# The nonlocal keyword is used to work with variables inside nested functions, where the variable should not belong to the inner function.\n",
    "\n",
    "#Use the keyword nonlocal to declare that the variable is not local.\n",
    "\n",
    "def myfunc1():\n",
    "  x = \"John\"\n",
    "  def myfunc2():\n",
    "    x = \"hello\"\n",
    "  myfunc2()\n",
    "  return x\n",
    "\n",
    "print(myfunc1())"
   ]
  },
  {
   "cell_type": "markdown",
   "id": "26c0c749-cb58-4989-9112-f77fc2084b08",
   "metadata": {},
   "source": [
    "# Q35. What is the global keyword?"
   ]
  },
  {
   "cell_type": "code",
   "execution_count": 1,
   "id": "9a4e004e-a9cf-421f-911d-cfa1e480279f",
   "metadata": {},
   "outputs": [
    {
     "name": "stdout",
     "output_type": "stream",
     "text": [
      "hello\n"
     ]
    }
   ],
   "source": [
    "# The global keyword is used to create global variables from a no-global scope.\n",
    "#Global keyword is used to modify the global variable outside its current scope and meaning. It is used to make changes in the global variable in a local context. The keyword 'Global' is also used to create or declare a global variable inside a function.21-Oct-2022///\n",
    "def myfunction():\n",
    "  global x\n",
    "  x = \"hello\"\n",
    "\n",
    "#execute the function:\n",
    "myfunction()\n",
    "\n",
    "#x should now be global, and accessible in the global scope.\n",
    "print(x)"
   ]
  },
  {
   "cell_type": "code",
   "execution_count": null,
   "id": "c71ed51d-9dff-44fa-9c2d-2078eaac6471",
   "metadata": {},
   "outputs": [],
   "source": []
  }
 ],
 "metadata": {
  "kernelspec": {
   "display_name": "Python 3 (ipykernel)",
   "language": "python",
   "name": "python3"
  },
  "language_info": {
   "codemirror_mode": {
    "name": "ipython",
    "version": 3
   },
   "file_extension": ".py",
   "mimetype": "text/x-python",
   "name": "python",
   "nbconvert_exporter": "python",
   "pygments_lexer": "ipython3",
   "version": "3.10.6"
  }
 },
 "nbformat": 4,
 "nbformat_minor": 5
}
