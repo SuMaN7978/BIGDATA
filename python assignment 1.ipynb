{
 "cells": [
  {
   "cell_type": "markdown",
   "id": "afe9727c-1467-4b77-bf34-441c2ca00ea9",
   "metadata": {},
   "source": [
    "# Q1.Why do we call Python as a general purpose and high-level programming language?\n"
   ]
  },
  {
   "cell_type": "markdown",
   "id": "56d5736d-114c-4a7d-806d-9c6ae88ae66a",
   "metadata": {},
   "source": [
    "Python is an object-oriented, high-level programming language. Object-oriented means this language is based around objects (such as data) rather than functions, and high-level means it's easy for humans to understand."
   ]
  },
  {
   "cell_type": "markdown",
   "id": "25d3531f-537a-4901-ac68-0ff571d56d61",
   "metadata": {},
   "source": [
    "# Q2. Why is Python called a dynamically typed language?"
   ]
  },
  {
   "cell_type": "markdown",
   "id": "bfd6e3d0-f6b2-480b-9bed-811a4959a12f",
   "metadata": {},
   "source": [
    " In python, there is no need to define the types of variables. It allows to directly use the variables as its type-checking will be done during the execution of the program. The interpreter checks the program line-by-line and also examines the data type of the variable. "
   ]
  },
  {
   "cell_type": "markdown",
   "id": "481b0c3d-7623-4a39-ab5c-300c9fbc0d35",
   "metadata": {},
   "source": [
    "# Q3. List some pros and cons of Python programming language?\n"
   ]
  },
  {
   "cell_type": "markdown",
   "id": "a6368941-5e89-417e-a579-9ffe672e198b",
   "metadata": {},
   "source": [
    "PRO:\n",
    "Python is easy to learn and read,\n",
    "Python enhances productivity,\n",
    "Python has a vast collection of libraries,\n",
    "Python is free, open-source, and has a vibrant community,\n",
    "It's Highly Compatible.\n",
    "It is Object-Oriented.\n",
    "It has Lots of Libraries.\n",
    "It has Built-in Data Structures.\n",
    "It's Widely Applicable.\n",
    "\n",
    "CON:\n",
    "Python has speed limitations,\n",
    "Python can have runtime errors,\n",
    "Python consumes a lot of memory space,\n",
    "Python is not easy to test,\n",
    "Python can have runtime errors.\n"
   ]
  },
  {
   "cell_type": "markdown",
   "id": "a411349b-4ae1-4bc7-beb6-aff84031b9a6",
   "metadata": {},
   "source": [
    "# Q4. In what all domains can we use Python?"
   ]
  },
  {
   "cell_type": "markdown",
   "id": "8ee152f0-56bd-4d14-8e8f-711b6dffbfe5",
   "metadata": {},
   "source": [
    "We can used python on the below domain:\n",
    "1. Data Science\n",
    "2. Automation\n",
    "3. Application Development \n",
    "4. AI & Machine Learning\n",
    "5. Data analytics and data visualization\n",
    "6. Game development\n",
    "7. Mobile App development"
   ]
  },
  {
   "cell_type": "markdown",
   "id": "45ef1222-99da-46d1-a2ff-d64768fc1491",
   "metadata": {},
   "source": [
    "# Q5. What are variable and how can we declare them?"
   ]
  },
  {
   "cell_type": "code",
   "execution_count": 33,
   "id": "a3564f77-5efc-489d-9c14-d832dd15cae2",
   "metadata": {},
   "outputs": [
    {
     "name": "stdout",
     "output_type": "stream",
     "text": [
      "2\n",
      "<class 'int'>\n"
     ]
    }
   ],
   "source": [
    "#A Python variable is a reserved memory location to store values. or variable in a python program gives data to the computer for processing.\n",
    "#A Python variable is a symbolic name that is a reference or pointer to an object.\n",
    "x=2\n",
    "print(x)\n",
    "print(type(x))"
   ]
  },
  {
   "cell_type": "markdown",
   "id": "119c7816-1bc5-48d2-8f01-1053419a12cf",
   "metadata": {},
   "source": [
    "# Q6. How can we take an input from the user in Python?"
   ]
  },
  {
   "cell_type": "markdown",
   "id": "de439ff9-3b27-490c-83f4-2a5cff853978",
   "metadata": {},
   "source": [
    "input():\n",
    "The input function is used in all latest version of the Python. It takes the input from the user and then evaluates the expression. The Python interpreter automatically identifies the whether a user input a string, a number, or a list. "
   ]
  },
  {
   "cell_type": "markdown",
   "id": "bd2cbd44-eb6d-4d00-a184-cecc8e7925e4",
   "metadata": {},
   "source": [
    "# Q7. What is the default datatype of the value that has been taken as an input using input() function?"
   ]
  },
  {
   "cell_type": "markdown",
   "id": "3bae0bb9-4e3f-4871-8c1f-bb8a3b380806",
   "metadata": {},
   "source": [
    "By default, input returns a string. So the name and age will be stored as strings."
   ]
  },
  {
   "cell_type": "markdown",
   "id": "9a19acad-8933-4786-a7da-9b0755269224",
   "metadata": {},
   "source": [
    "# Q8. What is type casting?"
   ]
  },
  {
   "cell_type": "markdown",
   "id": "dc8a9043-80e6-4c78-9f95-3d898ab5db22",
   "metadata": {},
   "source": [
    "The conversion of one data type into the other data type.\n",
    "Type Casting is the method to convert the variable data type into a certain data type in order to the operation required to be performed by users.\n",
    "python typecast function are:\n",
    "int(), float(), str(), ord(), hex(), oct(), tuple(), set(), list(), dict()."
   ]
  },
  {
   "cell_type": "markdown",
   "id": "08a13ced-20c6-43a5-9835-41b73cf6e67a",
   "metadata": {},
   "source": [
    "# Q9. Can we take more than one input from the user using single input() function? If yes, how? If no, why?"
   ]
  },
  {
   "cell_type": "markdown",
   "id": "234af4d3-eb53-414a-a1e0-55be0fcb1745",
   "metadata": {},
   "source": [
    "yes,\n",
    "The split() method is useful for getting multiple inputs from users.\n",
    "EXMAPLE:\n",
    "a, b, c = input(\"Enter three values: \").split()  \n"
   ]
  },
  {
   "cell_type": "markdown",
   "id": "296443ba-d1cd-4f37-bdc1-452cab6019f1",
   "metadata": {},
   "source": [
    "# Q10. What are keywords?"
   ]
  },
  {
   "cell_type": "markdown",
   "id": "c6c5086b-16af-458f-83a2-349ba7c81e67",
   "metadata": {},
   "source": [
    "keywords are special reserved words that have specific meanings and purposes and can't be used for anything but those specific purposes."
   ]
  },
  {
   "cell_type": "markdown",
   "id": "0c7945e8-1c7b-4325-bc36-012d4db5ca94",
   "metadata": {},
   "source": [
    "# Q11. Can we use keywords as a variable? Support your answer with reason."
   ]
  },
  {
   "cell_type": "markdown",
   "id": "15b83c9a-12e8-466b-a76c-a7e07c83c7d6",
   "metadata": {},
   "source": [
    "You cannot use keywords as variable names. It's because keywords have predefined meanings."
   ]
  },
  {
   "cell_type": "markdown",
   "id": "faf3b08f-a023-42e4-a6b8-5f81077ffff6",
   "metadata": {},
   "source": [
    "# Q12. What is indentation? What's the use of indentaion in Python?"
   ]
  },
  {
   "cell_type": "markdown",
   "id": "ad49aae3-da2a-44e0-82a3-efb66313797e",
   "metadata": {},
   "source": [
    "Indentation refers to the spaces at the beginning of a code line. Where in other programming languages the indentation in code is for readability only, the indentation in Python is very important. Python uses indentation to indicate a block of code."
   ]
  },
  {
   "cell_type": "markdown",
   "id": "ceab15c8-cb66-45b7-8f5f-80e1bfb7baa7",
   "metadata": {},
   "source": [
    "# Q13. How can we throw some output in Python?"
   ]
  },
  {
   "cell_type": "code",
   "execution_count": 32,
   "id": "271e7d53-6f91-4bfd-9a0a-52a10399de93",
   "metadata": {},
   "outputs": [
    {
     "name": "stdout",
     "output_type": "stream",
     "text": [
      "88\n"
     ]
    }
   ],
   "source": [
    "#TO throw some out put in python we use print().\n",
    "print(1+87)\n"
   ]
  },
  {
   "cell_type": "markdown",
   "id": "a2ac455c-673d-40b9-971b-f366e2f68bc1",
   "metadata": {},
   "source": [
    "# Q14. What are operators in Python"
   ]
  },
  {
   "cell_type": "markdown",
   "id": "f3f067d5-f833-4d34-aa34-c50cc4d7335f",
   "metadata": {},
   "source": [
    "Python Operators in general are used to perform operations on values and variables. These are standard symbols used for the purpose of logical and arithmetic operation .Different types of Python operators. \n",
    "Arithmetic operators,\n",
    "Comparison operators,\n",
    "Logical operators,\n",
    "Bitwise operators,\n",
    "Assignment Operators."
   ]
  },
  {
   "cell_type": "markdown",
   "id": "0147c466-03f6-4abe-a4b1-e1fb9552f93a",
   "metadata": {},
   "source": [
    "# Q15. What is difference between / and // operators?"
   ]
  },
  {
   "cell_type": "markdown",
   "id": "4558c790-dcf0-4d75-a4be-e616a348e4e5",
   "metadata": {},
   "source": [
    "/=\tDivision (float): divides the first operand by the second.\n",
    "//= Division (floor): divides the first operand by the second"
   ]
  },
  {
   "cell_type": "markdown",
   "id": "39aa3306-4ba8-4058-b1a5-63577ba17c37",
   "metadata": {},
   "source": [
    "#  Write a code that gives following as an output.\n",
    "```\n",
    "iNeuroniNeuroniNeuroniNeuron"
   ]
  },
  {
   "cell_type": "code",
   "execution_count": 5,
   "id": "0c6e56cf-83ef-4f45-8637-593381cb232a",
   "metadata": {},
   "outputs": [
    {
     "name": "stdout",
     "output_type": "stream",
     "text": [
      "iNEURONiNEURONiNEURON\n"
     ]
    }
   ],
   "source": [
    "A='iNEURON'\n",
    "print(A*3)"
   ]
  },
  {
   "cell_type": "markdown",
   "id": "d5279d9a-93a3-4f95-9361-723c3f05becf",
   "metadata": {},
   "source": [
    "# Q17. Write a code to take a number as an input from the user and check if the number is odd or even."
   ]
  },
  {
   "cell_type": "code",
   "execution_count": 9,
   "id": "ea726f00-ec1d-4a5f-86fa-40591a458a9b",
   "metadata": {},
   "outputs": [
    {
     "name": "stdin",
     "output_type": "stream",
     "text": [
      "Enter a number:  67\n"
     ]
    },
    {
     "name": "stdout",
     "output_type": "stream",
     "text": [
      "67 is Odd\n"
     ]
    }
   ],
   "source": [
    "num = int(input(\"Enter a number: \"))\n",
    "if (num % 2) == 0:\n",
    "   print(\"{0} is Even\".format(num))\n",
    "else:\n",
    "   print(\"{0} is Odd\".format(num))"
   ]
  },
  {
   "cell_type": "markdown",
   "id": "aed4e300-e8c8-4569-be97-a904905a0152",
   "metadata": {},
   "source": [
    "# Q18. What are boolean operator?"
   ]
  },
  {
   "cell_type": "markdown",
   "id": "1c6afd77-c41f-404a-9331-e896af33bfc1",
   "metadata": {},
   "source": [
    "Boolean operators are words that connect search terms (keywords) to create a logical phrase that a database can understand.\n",
    "Boolean operators are : AND,OR,NOT."
   ]
  },
  {
   "cell_type": "markdown",
   "id": "7a5ab11d-5fa1-4440-a206-8361c1cf6dea",
   "metadata": {},
   "source": [
    "# Q19. What will the output of the following?\n",
    "```\n",
    "1 or 0\n",
    "\n",
    "0 and 0\n",
    "\n",
    "True and False and True\n",
    "\n",
    "1 or 0 or 0\n",
    "```"
   ]
  },
  {
   "cell_type": "markdown",
   "id": "a9fb2834-4724-419c-9364-0b191772a0d1",
   "metadata": {},
   "source": [
    "TRUE OR FLASE,\n",
    "FLASE AND FLASE,\n",
    "TRUE, FLASE, FLASE."
   ]
  },
  {
   "cell_type": "markdown",
   "id": "e2947d4e-169e-4b9f-8cc5-27ea0098a682",
   "metadata": {},
   "source": [
    "# Q20. What are conditional statements in Python?"
   ]
  },
  {
   "cell_type": "markdown",
   "id": "0fcc2d03-e0b9-4335-90da-5311ff1bc0f7",
   "metadata": {},
   "source": [
    "A conditional statement is used to handle conditions in your program. These statements guide the program while making decisions based on the conditions encountered by the program.\n",
    "\n",
    "Python has 3 key Conditional Statements that you should know:\n",
    "\n",
    "if statement\n",
    "if-else statement\n",
    "if-elif-else ladder"
   ]
  },
  {
   "cell_type": "markdown",
   "id": "d3069a82-4334-46f5-b6fb-58ac70cca2a9",
   "metadata": {},
   "source": [
    "# Q21. What is use of 'if', 'elif' and 'else' keywords?"
   ]
  },
  {
   "cell_type": "markdown",
   "id": "0dad2f0c-a965-4488-8af2-7a78f40ea06a",
   "metadata": {},
   "source": [
    "if… elif…else are conditional statements that provide you with the decision making that is required when you want to execute code based on a particular condition.\n",
    "IF=The IF statement executes one set of code if a specified condition is met (TRUE) or another set of code evaluates to FALSE.\n",
    "ELSE=If the condition is true, the if block code is executed and if the condition is false, the else block code is executed.\n",
    "ELIF=Use the elif condition is used to include multiple conditional expressions after the if condition or between the if and else conditions."
   ]
  },
  {
   "cell_type": "markdown",
   "id": "e21ee7d7-ca42-4ec7-b263-cfd27056d08c",
   "metadata": {},
   "source": [
    "# Q22. Write a code to take the age of person as an input and if age >= 18 display \"I can vote\". If age is < 18 display \"I can't vote\"."
   ]
  },
  {
   "cell_type": "code",
   "execution_count": 29,
   "id": "efd4adb9-d964-4c14-be15-1bf9b27b8212",
   "metadata": {},
   "outputs": [
    {
     "name": "stdin",
     "output_type": "stream",
     "text": [
      "Enter age of a user:  18\n"
     ]
    },
    {
     "name": "stdout",
     "output_type": "stream",
     "text": [
      "I can vote 18\n"
     ]
    }
   ],
   "source": [
    "age = int(input(\"Enter age of a user: \"))\n",
    "\n",
    "if age >= 18:\n",
    "    print(\"I can vote\", age)\n",
    "elif age<18:\n",
    "    print(\"I can't vote\", age)\n",
    "        "
   ]
  },
  {
   "cell_type": "markdown",
   "id": "18beb913-e016-41f0-a380-09fe5bf381e8",
   "metadata": {},
   "source": [
    "# Q23. Write a code that displays the sum of all the even numbers from the given list.\n",
    "```\n",
    "numbers = [12, 75, 150, 180, 145, 525, 50]\n",
    "```\n"
   ]
  },
  {
   "cell_type": "code",
   "execution_count": 2,
   "id": "4b861179-8719-401f-8b63-8d84971f54dc",
   "metadata": {},
   "outputs": [
    {
     "name": "stdout",
     "output_type": "stream",
     "text": [
      "12 150 180 50 "
     ]
    }
   ],
   "source": [
    "\n",
    "numbers = [12, 75, 150, 180, 145, 525, 50]\n",
    "\n",
    "for i in numbers :\n",
    " \n",
    "    if i % 2 == 0:\n",
    "        print(i, end=\" \")"
   ]
  },
  {
   "cell_type": "markdown",
   "id": "659ccb23-3ef5-4d8d-afea-5368d5873192",
   "metadata": {},
   "source": [
    "# Q24. Write a code to take 3 numbers as an input from the user and display the greatest no as output."
   ]
  },
  {
   "cell_type": "code",
   "execution_count": 1,
   "id": "afc6791d-5c1e-44af-9106-aa6e3f3e28b7",
   "metadata": {},
   "outputs": [
    {
     "name": "stdin",
     "output_type": "stream",
     "text": [
      "Enter first number  :  2\n",
      "Enter second number :  98\n",
      "Enter third number  :  34\n"
     ]
    },
    {
     "name": "stdout",
     "output_type": "stream",
     "text": [
      "98 is the largest of three numbers.\n"
     ]
    }
   ],
   "source": [
    "a = int(input('Enter first number  : '))\n",
    "b = int(input('Enter second number : '))\n",
    "c = int(input('Enter third number  : '))\n",
    "\n",
    "largest = 0\n",
    "\n",
    "if a > b and a > c :\n",
    "    largest = a\n",
    "elif b > c :\n",
    "    largest = b\n",
    "else :\n",
    "    largest = c\n",
    "\n",
    "print(largest, \"is the largest of three numbers.\")"
   ]
  },
  {
   "cell_type": "markdown",
   "id": "13ef1a4d-90bd-4d5b-a7ea-0d4043ebb2fc",
   "metadata": {},
   "source": [
    "# Q25. Write a program to display only those numbers from a list that satisfy the following conditions\n",
    "\n",
    "- The number must be divisible by five\n",
    "\n",
    "- If the number is greater than 150, then skip it and move to the next number\n",
    "\n",
    "- If the number is greater than 500, then stop the loop\n",
    "```\n",
    "numbers = [12, 75, 150, 180, 145, 525, 50]\n",
    "```"
   ]
  },
  {
   "cell_type": "code",
   "execution_count": 27,
   "id": "49742061-f518-4f09-bf24-3901fb2289cc",
   "metadata": {},
   "outputs": [
    {
     "name": "stdout",
     "output_type": "stream",
     "text": [
      "[75, 150, 145]\n"
     ]
    }
   ],
   "source": [
    "a = [12, 75, 150, 180, 145, 525, 50]\n",
    "b = []\n",
    "for i in a:\n",
    "    if i > 150:\n",
    "        if i > 500:\n",
    "            break\n",
    "        continue\n",
    "    if i % 5 == 0:\n",
    "        b.append(i)\n",
    "        \n",
    "print(b)"
   ]
  },
  {
   "cell_type": "code",
   "execution_count": null,
   "id": "58354cf4-08ba-4df5-9898-5fb372238000",
   "metadata": {},
   "outputs": [],
   "source": []
  }
 ],
 "metadata": {
  "kernelspec": {
   "display_name": "Python 3 (ipykernel)",
   "language": "python",
   "name": "python3"
  },
  "language_info": {
   "codemirror_mode": {
    "name": "ipython",
    "version": 3
   },
   "file_extension": ".py",
   "mimetype": "text/x-python",
   "name": "python",
   "nbconvert_exporter": "python",
   "pygments_lexer": "ipython3",
   "version": "3.10.6"
  }
 },
 "nbformat": 4,
 "nbformat_minor": 5
}
